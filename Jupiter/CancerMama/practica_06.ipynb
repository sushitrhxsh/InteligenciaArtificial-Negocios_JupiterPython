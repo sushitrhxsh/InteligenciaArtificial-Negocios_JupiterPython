{
 "cells": [
  {
   "cell_type": "markdown",
   "id": "e19534a3",
   "metadata": {},
   "source": [
    "#    Practica 06"
   ]
  },
  {
   "cell_type": "code",
   "execution_count": 1,
   "id": "c49ab673",
   "metadata": {},
   "outputs": [],
   "source": [
    "#importar librerias\n",
    "import numpy as np\n",
    "import pandas as pd\n",
    "import matplotlib.pyplot as plt\n",
    "import sklearn \n",
    "from sklearn import datasets\n",
    "from imblearn.over_sampling import SMOTE\n",
    "from sklearn.model_selection import train_test_split\n",
    "from sklearn.tree import DecisionTreeClassifier\n",
    "from sklearn.model_selection import cross_validate\n",
    "#Classifiers\n",
    "from sklearn.svm import LinearSVC, SVC #smo\n",
    "from sklearn.tree import DecisionTreeClassifier #j48\n",
    "from sklearn.ensemble import RandomForestClassifier, AdaBoostClassifier, ExtraTreesClassifier #adaboost\n",
    "from sklearn.neighbors import KNeighborsClassifier\n",
    "from sklearn.naive_bayes import GaussianNB #NB"
   ]
  },
  {
   "cell_type": "code",
   "execution_count": 2,
   "id": "8c75f6e2",
   "metadata": {},
   "outputs": [
    {
     "data": {
      "text/html": [
       "<div>\n",
       "<style scoped>\n",
       "    .dataframe tbody tr th:only-of-type {\n",
       "        vertical-align: middle;\n",
       "    }\n",
       "\n",
       "    .dataframe tbody tr th {\n",
       "        vertical-align: top;\n",
       "    }\n",
       "\n",
       "    .dataframe thead th {\n",
       "        text-align: right;\n",
       "    }\n",
       "</style>\n",
       "<table border=\"1\" class=\"dataframe\">\n",
       "  <thead>\n",
       "    <tr style=\"text-align: right;\">\n",
       "      <th></th>\n",
       "      <th>Unnamed: 0</th>\n",
       "      <th>pid</th>\n",
       "      <th>age</th>\n",
       "      <th>meno</th>\n",
       "      <th>size</th>\n",
       "      <th>grade</th>\n",
       "      <th>nodes</th>\n",
       "      <th>pgr</th>\n",
       "      <th>er</th>\n",
       "      <th>hormon</th>\n",
       "      <th>rfstime</th>\n",
       "      <th>status</th>\n",
       "    </tr>\n",
       "  </thead>\n",
       "  <tbody>\n",
       "    <tr>\n",
       "      <th>0</th>\n",
       "      <td>1</td>\n",
       "      <td>132</td>\n",
       "      <td>49</td>\n",
       "      <td>0</td>\n",
       "      <td>18</td>\n",
       "      <td>2</td>\n",
       "      <td>2</td>\n",
       "      <td>0</td>\n",
       "      <td>0</td>\n",
       "      <td>0</td>\n",
       "      <td>1838</td>\n",
       "      <td>0</td>\n",
       "    </tr>\n",
       "    <tr>\n",
       "      <th>1</th>\n",
       "      <td>2</td>\n",
       "      <td>1575</td>\n",
       "      <td>55</td>\n",
       "      <td>1</td>\n",
       "      <td>20</td>\n",
       "      <td>3</td>\n",
       "      <td>16</td>\n",
       "      <td>0</td>\n",
       "      <td>0</td>\n",
       "      <td>0</td>\n",
       "      <td>403</td>\n",
       "      <td>1</td>\n",
       "    </tr>\n",
       "    <tr>\n",
       "      <th>2</th>\n",
       "      <td>3</td>\n",
       "      <td>1140</td>\n",
       "      <td>56</td>\n",
       "      <td>1</td>\n",
       "      <td>40</td>\n",
       "      <td>3</td>\n",
       "      <td>3</td>\n",
       "      <td>0</td>\n",
       "      <td>0</td>\n",
       "      <td>0</td>\n",
       "      <td>1603</td>\n",
       "      <td>0</td>\n",
       "    </tr>\n",
       "    <tr>\n",
       "      <th>3</th>\n",
       "      <td>4</td>\n",
       "      <td>769</td>\n",
       "      <td>45</td>\n",
       "      <td>0</td>\n",
       "      <td>25</td>\n",
       "      <td>3</td>\n",
       "      <td>1</td>\n",
       "      <td>0</td>\n",
       "      <td>4</td>\n",
       "      <td>0</td>\n",
       "      <td>177</td>\n",
       "      <td>0</td>\n",
       "    </tr>\n",
       "    <tr>\n",
       "      <th>4</th>\n",
       "      <td>5</td>\n",
       "      <td>130</td>\n",
       "      <td>65</td>\n",
       "      <td>1</td>\n",
       "      <td>30</td>\n",
       "      <td>2</td>\n",
       "      <td>5</td>\n",
       "      <td>0</td>\n",
       "      <td>36</td>\n",
       "      <td>1</td>\n",
       "      <td>1855</td>\n",
       "      <td>0</td>\n",
       "    </tr>\n",
       "    <tr>\n",
       "      <th>...</th>\n",
       "      <td>...</td>\n",
       "      <td>...</td>\n",
       "      <td>...</td>\n",
       "      <td>...</td>\n",
       "      <td>...</td>\n",
       "      <td>...</td>\n",
       "      <td>...</td>\n",
       "      <td>...</td>\n",
       "      <td>...</td>\n",
       "      <td>...</td>\n",
       "      <td>...</td>\n",
       "      <td>...</td>\n",
       "    </tr>\n",
       "    <tr>\n",
       "      <th>681</th>\n",
       "      <td>682</td>\n",
       "      <td>586</td>\n",
       "      <td>51</td>\n",
       "      <td>0</td>\n",
       "      <td>30</td>\n",
       "      <td>3</td>\n",
       "      <td>2</td>\n",
       "      <td>1152</td>\n",
       "      <td>38</td>\n",
       "      <td>1</td>\n",
       "      <td>1760</td>\n",
       "      <td>0</td>\n",
       "    </tr>\n",
       "    <tr>\n",
       "      <th>682</th>\n",
       "      <td>683</td>\n",
       "      <td>1273</td>\n",
       "      <td>64</td>\n",
       "      <td>1</td>\n",
       "      <td>26</td>\n",
       "      <td>2</td>\n",
       "      <td>2</td>\n",
       "      <td>1356</td>\n",
       "      <td>1144</td>\n",
       "      <td>1</td>\n",
       "      <td>1152</td>\n",
       "      <td>0</td>\n",
       "    </tr>\n",
       "    <tr>\n",
       "      <th>683</th>\n",
       "      <td>684</td>\n",
       "      <td>1525</td>\n",
       "      <td>57</td>\n",
       "      <td>1</td>\n",
       "      <td>35</td>\n",
       "      <td>3</td>\n",
       "      <td>1</td>\n",
       "      <td>1490</td>\n",
       "      <td>209</td>\n",
       "      <td>1</td>\n",
       "      <td>1342</td>\n",
       "      <td>0</td>\n",
       "    </tr>\n",
       "    <tr>\n",
       "      <th>684</th>\n",
       "      <td>685</td>\n",
       "      <td>736</td>\n",
       "      <td>44</td>\n",
       "      <td>0</td>\n",
       "      <td>21</td>\n",
       "      <td>2</td>\n",
       "      <td>3</td>\n",
       "      <td>1600</td>\n",
       "      <td>70</td>\n",
       "      <td>0</td>\n",
       "      <td>629</td>\n",
       "      <td>0</td>\n",
       "    </tr>\n",
       "    <tr>\n",
       "      <th>685</th>\n",
       "      <td>686</td>\n",
       "      <td>894</td>\n",
       "      <td>80</td>\n",
       "      <td>1</td>\n",
       "      <td>7</td>\n",
       "      <td>2</td>\n",
       "      <td>7</td>\n",
       "      <td>2380</td>\n",
       "      <td>972</td>\n",
       "      <td>1</td>\n",
       "      <td>758</td>\n",
       "      <td>0</td>\n",
       "    </tr>\n",
       "  </tbody>\n",
       "</table>\n",
       "<p>686 rows × 12 columns</p>\n",
       "</div>"
      ],
      "text/plain": [
       "     Unnamed: 0   pid  age  meno  size  grade  nodes   pgr    er  hormon  \\\n",
       "0             1   132   49     0    18      2      2     0     0       0   \n",
       "1             2  1575   55     1    20      3     16     0     0       0   \n",
       "2             3  1140   56     1    40      3      3     0     0       0   \n",
       "3             4   769   45     0    25      3      1     0     4       0   \n",
       "4             5   130   65     1    30      2      5     0    36       1   \n",
       "..          ...   ...  ...   ...   ...    ...    ...   ...   ...     ...   \n",
       "681         682   586   51     0    30      3      2  1152    38       1   \n",
       "682         683  1273   64     1    26      2      2  1356  1144       1   \n",
       "683         684  1525   57     1    35      3      1  1490   209       1   \n",
       "684         685   736   44     0    21      2      3  1600    70       0   \n",
       "685         686   894   80     1     7      2      7  2380   972       1   \n",
       "\n",
       "     rfstime  status  \n",
       "0       1838       0  \n",
       "1        403       1  \n",
       "2       1603       0  \n",
       "3        177       0  \n",
       "4       1855       0  \n",
       "..       ...     ...  \n",
       "681     1760       0  \n",
       "682     1152       0  \n",
       "683     1342       0  \n",
       "684      629       0  \n",
       "685      758       0  \n",
       "\n",
       "[686 rows x 12 columns]"
      ]
     },
     "execution_count": 2,
     "metadata": {},
     "output_type": "execute_result"
    }
   ],
   "source": [
    "#cargar dataset iris desde csv\n",
    "df = pd.read_csv('C:/Users/alexs/Documents/programacion/InteligenciaArtificial_Negocios/Jupiter/datasets/gbsg.csv')\n",
    "df"
   ]
  },
  {
   "cell_type": "markdown",
   "id": "35c072a8",
   "metadata": {},
   "source": [
    "# Entendimiento de datos"
   ]
  },
  {
   "cell_type": "code",
   "execution_count": 3,
   "id": "ab47e658",
   "metadata": {},
   "outputs": [
    {
     "data": {
      "text/plain": [
       "Unnamed: 0    0\n",
       "pid           0\n",
       "age           0\n",
       "meno          0\n",
       "size          0\n",
       "grade         0\n",
       "nodes         0\n",
       "pgr           0\n",
       "er            0\n",
       "hormon        0\n",
       "rfstime       0\n",
       "status        0\n",
       "dtype: int64"
      ]
     },
     "execution_count": 3,
     "metadata": {},
     "output_type": "execute_result"
    }
   ],
   "source": [
    "df.isnull().sum()"
   ]
  },
  {
   "cell_type": "code",
   "execution_count": 4,
   "id": "84852e9a",
   "metadata": {},
   "outputs": [
    {
     "name": "stdout",
     "output_type": "stream",
     "text": [
      "<class 'pandas.core.frame.DataFrame'>\n",
      "RangeIndex: 686 entries, 0 to 685\n",
      "Data columns (total 12 columns):\n",
      " #   Column      Non-Null Count  Dtype\n",
      "---  ------      --------------  -----\n",
      " 0   Unnamed: 0  686 non-null    int64\n",
      " 1   pid         686 non-null    int64\n",
      " 2   age         686 non-null    int64\n",
      " 3   meno        686 non-null    int64\n",
      " 4   size        686 non-null    int64\n",
      " 5   grade       686 non-null    int64\n",
      " 6   nodes       686 non-null    int64\n",
      " 7   pgr         686 non-null    int64\n",
      " 8   er          686 non-null    int64\n",
      " 9   hormon      686 non-null    int64\n",
      " 10  rfstime     686 non-null    int64\n",
      " 11  status      686 non-null    int64\n",
      "dtypes: int64(12)\n",
      "memory usage: 64.4 KB\n"
     ]
    }
   ],
   "source": [
    "df.info()"
   ]
  },
  {
   "cell_type": "code",
   "execution_count": 5,
   "id": "e80a32da",
   "metadata": {},
   "outputs": [
    {
     "data": {
      "text/plain": [
       "(686, 12)"
      ]
     },
     "execution_count": 5,
     "metadata": {},
     "output_type": "execute_result"
    }
   ],
   "source": [
    "df.shape"
   ]
  },
  {
   "cell_type": "code",
   "execution_count": 6,
   "id": "5c4dd7c8",
   "metadata": {
    "scrolled": true
   },
   "outputs": [
    {
     "data": {
      "text/html": [
       "<div>\n",
       "<style scoped>\n",
       "    .dataframe tbody tr th:only-of-type {\n",
       "        vertical-align: middle;\n",
       "    }\n",
       "\n",
       "    .dataframe tbody tr th {\n",
       "        vertical-align: top;\n",
       "    }\n",
       "\n",
       "    .dataframe thead th {\n",
       "        text-align: right;\n",
       "    }\n",
       "</style>\n",
       "<table border=\"1\" class=\"dataframe\">\n",
       "  <thead>\n",
       "    <tr style=\"text-align: right;\">\n",
       "      <th></th>\n",
       "      <th>Unnamed: 0</th>\n",
       "      <th>pid</th>\n",
       "      <th>age</th>\n",
       "      <th>meno</th>\n",
       "      <th>size</th>\n",
       "      <th>grade</th>\n",
       "      <th>nodes</th>\n",
       "      <th>pgr</th>\n",
       "      <th>er</th>\n",
       "      <th>hormon</th>\n",
       "      <th>rfstime</th>\n",
       "      <th>status</th>\n",
       "    </tr>\n",
       "  </thead>\n",
       "  <tbody>\n",
       "    <tr>\n",
       "      <th>count</th>\n",
       "      <td>686.000000</td>\n",
       "      <td>686.000000</td>\n",
       "      <td>686.000000</td>\n",
       "      <td>686.000000</td>\n",
       "      <td>686.000000</td>\n",
       "      <td>686.000000</td>\n",
       "      <td>686.000000</td>\n",
       "      <td>686.000000</td>\n",
       "      <td>686.000000</td>\n",
       "      <td>686.000000</td>\n",
       "      <td>686.000000</td>\n",
       "      <td>686.000000</td>\n",
       "    </tr>\n",
       "    <tr>\n",
       "      <th>mean</th>\n",
       "      <td>343.500000</td>\n",
       "      <td>966.061224</td>\n",
       "      <td>53.052478</td>\n",
       "      <td>0.577259</td>\n",
       "      <td>29.329446</td>\n",
       "      <td>2.116618</td>\n",
       "      <td>5.010204</td>\n",
       "      <td>109.995627</td>\n",
       "      <td>96.252187</td>\n",
       "      <td>0.358601</td>\n",
       "      <td>1124.489796</td>\n",
       "      <td>0.435860</td>\n",
       "    </tr>\n",
       "    <tr>\n",
       "      <th>std</th>\n",
       "      <td>198.175427</td>\n",
       "      <td>495.506249</td>\n",
       "      <td>10.120739</td>\n",
       "      <td>0.494355</td>\n",
       "      <td>14.296217</td>\n",
       "      <td>0.582808</td>\n",
       "      <td>5.475483</td>\n",
       "      <td>202.331552</td>\n",
       "      <td>153.083963</td>\n",
       "      <td>0.479940</td>\n",
       "      <td>642.791948</td>\n",
       "      <td>0.496231</td>\n",
       "    </tr>\n",
       "    <tr>\n",
       "      <th>min</th>\n",
       "      <td>1.000000</td>\n",
       "      <td>1.000000</td>\n",
       "      <td>21.000000</td>\n",
       "      <td>0.000000</td>\n",
       "      <td>3.000000</td>\n",
       "      <td>1.000000</td>\n",
       "      <td>1.000000</td>\n",
       "      <td>0.000000</td>\n",
       "      <td>0.000000</td>\n",
       "      <td>0.000000</td>\n",
       "      <td>8.000000</td>\n",
       "      <td>0.000000</td>\n",
       "    </tr>\n",
       "    <tr>\n",
       "      <th>25%</th>\n",
       "      <td>172.250000</td>\n",
       "      <td>580.750000</td>\n",
       "      <td>46.000000</td>\n",
       "      <td>0.000000</td>\n",
       "      <td>20.000000</td>\n",
       "      <td>2.000000</td>\n",
       "      <td>1.000000</td>\n",
       "      <td>7.000000</td>\n",
       "      <td>8.000000</td>\n",
       "      <td>0.000000</td>\n",
       "      <td>567.750000</td>\n",
       "      <td>0.000000</td>\n",
       "    </tr>\n",
       "    <tr>\n",
       "      <th>50%</th>\n",
       "      <td>343.500000</td>\n",
       "      <td>1015.500000</td>\n",
       "      <td>53.000000</td>\n",
       "      <td>1.000000</td>\n",
       "      <td>25.000000</td>\n",
       "      <td>2.000000</td>\n",
       "      <td>3.000000</td>\n",
       "      <td>32.500000</td>\n",
       "      <td>36.000000</td>\n",
       "      <td>0.000000</td>\n",
       "      <td>1084.000000</td>\n",
       "      <td>0.000000</td>\n",
       "    </tr>\n",
       "    <tr>\n",
       "      <th>75%</th>\n",
       "      <td>514.750000</td>\n",
       "      <td>1340.500000</td>\n",
       "      <td>61.000000</td>\n",
       "      <td>1.000000</td>\n",
       "      <td>35.000000</td>\n",
       "      <td>2.000000</td>\n",
       "      <td>7.000000</td>\n",
       "      <td>131.750000</td>\n",
       "      <td>114.000000</td>\n",
       "      <td>1.000000</td>\n",
       "      <td>1684.750000</td>\n",
       "      <td>1.000000</td>\n",
       "    </tr>\n",
       "    <tr>\n",
       "      <th>max</th>\n",
       "      <td>686.000000</td>\n",
       "      <td>1819.000000</td>\n",
       "      <td>80.000000</td>\n",
       "      <td>1.000000</td>\n",
       "      <td>120.000000</td>\n",
       "      <td>3.000000</td>\n",
       "      <td>51.000000</td>\n",
       "      <td>2380.000000</td>\n",
       "      <td>1144.000000</td>\n",
       "      <td>1.000000</td>\n",
       "      <td>2659.000000</td>\n",
       "      <td>1.000000</td>\n",
       "    </tr>\n",
       "  </tbody>\n",
       "</table>\n",
       "</div>"
      ],
      "text/plain": [
       "       Unnamed: 0          pid         age        meno        size  \\\n",
       "count  686.000000   686.000000  686.000000  686.000000  686.000000   \n",
       "mean   343.500000   966.061224   53.052478    0.577259   29.329446   \n",
       "std    198.175427   495.506249   10.120739    0.494355   14.296217   \n",
       "min      1.000000     1.000000   21.000000    0.000000    3.000000   \n",
       "25%    172.250000   580.750000   46.000000    0.000000   20.000000   \n",
       "50%    343.500000  1015.500000   53.000000    1.000000   25.000000   \n",
       "75%    514.750000  1340.500000   61.000000    1.000000   35.000000   \n",
       "max    686.000000  1819.000000   80.000000    1.000000  120.000000   \n",
       "\n",
       "            grade       nodes          pgr           er      hormon  \\\n",
       "count  686.000000  686.000000   686.000000   686.000000  686.000000   \n",
       "mean     2.116618    5.010204   109.995627    96.252187    0.358601   \n",
       "std      0.582808    5.475483   202.331552   153.083963    0.479940   \n",
       "min      1.000000    1.000000     0.000000     0.000000    0.000000   \n",
       "25%      2.000000    1.000000     7.000000     8.000000    0.000000   \n",
       "50%      2.000000    3.000000    32.500000    36.000000    0.000000   \n",
       "75%      2.000000    7.000000   131.750000   114.000000    1.000000   \n",
       "max      3.000000   51.000000  2380.000000  1144.000000    1.000000   \n",
       "\n",
       "           rfstime      status  \n",
       "count   686.000000  686.000000  \n",
       "mean   1124.489796    0.435860  \n",
       "std     642.791948    0.496231  \n",
       "min       8.000000    0.000000  \n",
       "25%     567.750000    0.000000  \n",
       "50%    1084.000000    0.000000  \n",
       "75%    1684.750000    1.000000  \n",
       "max    2659.000000    1.000000  "
      ]
     },
     "execution_count": 6,
     "metadata": {},
     "output_type": "execute_result"
    }
   ],
   "source": [
    "df.describe()"
   ]
  },
  {
   "cell_type": "code",
   "execution_count": 7,
   "id": "5c5d71fa",
   "metadata": {},
   "outputs": [
    {
     "data": {
      "text/html": [
       "<div>\n",
       "<style scoped>\n",
       "    .dataframe tbody tr th:only-of-type {\n",
       "        vertical-align: middle;\n",
       "    }\n",
       "\n",
       "    .dataframe tbody tr th {\n",
       "        vertical-align: top;\n",
       "    }\n",
       "\n",
       "    .dataframe thead th {\n",
       "        text-align: right;\n",
       "    }\n",
       "</style>\n",
       "<table border=\"1\" class=\"dataframe\">\n",
       "  <thead>\n",
       "    <tr style=\"text-align: right;\">\n",
       "      <th></th>\n",
       "      <th>Unnamed: 0</th>\n",
       "      <th>pid</th>\n",
       "      <th>age</th>\n",
       "      <th>meno</th>\n",
       "      <th>size</th>\n",
       "      <th>grade</th>\n",
       "      <th>nodes</th>\n",
       "      <th>pgr</th>\n",
       "      <th>er</th>\n",
       "      <th>hormon</th>\n",
       "      <th>rfstime</th>\n",
       "      <th>status</th>\n",
       "    </tr>\n",
       "  </thead>\n",
       "  <tbody>\n",
       "    <tr>\n",
       "      <th>0</th>\n",
       "      <td>1</td>\n",
       "      <td>132</td>\n",
       "      <td>49</td>\n",
       "      <td>0</td>\n",
       "      <td>18</td>\n",
       "      <td>2</td>\n",
       "      <td>2</td>\n",
       "      <td>0</td>\n",
       "      <td>0</td>\n",
       "      <td>0</td>\n",
       "      <td>1838</td>\n",
       "      <td>0</td>\n",
       "    </tr>\n",
       "    <tr>\n",
       "      <th>1</th>\n",
       "      <td>2</td>\n",
       "      <td>1575</td>\n",
       "      <td>55</td>\n",
       "      <td>1</td>\n",
       "      <td>20</td>\n",
       "      <td>3</td>\n",
       "      <td>16</td>\n",
       "      <td>0</td>\n",
       "      <td>0</td>\n",
       "      <td>0</td>\n",
       "      <td>403</td>\n",
       "      <td>1</td>\n",
       "    </tr>\n",
       "    <tr>\n",
       "      <th>2</th>\n",
       "      <td>3</td>\n",
       "      <td>1140</td>\n",
       "      <td>56</td>\n",
       "      <td>1</td>\n",
       "      <td>40</td>\n",
       "      <td>3</td>\n",
       "      <td>3</td>\n",
       "      <td>0</td>\n",
       "      <td>0</td>\n",
       "      <td>0</td>\n",
       "      <td>1603</td>\n",
       "      <td>0</td>\n",
       "    </tr>\n",
       "    <tr>\n",
       "      <th>3</th>\n",
       "      <td>4</td>\n",
       "      <td>769</td>\n",
       "      <td>45</td>\n",
       "      <td>0</td>\n",
       "      <td>25</td>\n",
       "      <td>3</td>\n",
       "      <td>1</td>\n",
       "      <td>0</td>\n",
       "      <td>4</td>\n",
       "      <td>0</td>\n",
       "      <td>177</td>\n",
       "      <td>0</td>\n",
       "    </tr>\n",
       "    <tr>\n",
       "      <th>4</th>\n",
       "      <td>5</td>\n",
       "      <td>130</td>\n",
       "      <td>65</td>\n",
       "      <td>1</td>\n",
       "      <td>30</td>\n",
       "      <td>2</td>\n",
       "      <td>5</td>\n",
       "      <td>0</td>\n",
       "      <td>36</td>\n",
       "      <td>1</td>\n",
       "      <td>1855</td>\n",
       "      <td>0</td>\n",
       "    </tr>\n",
       "    <tr>\n",
       "      <th>...</th>\n",
       "      <td>...</td>\n",
       "      <td>...</td>\n",
       "      <td>...</td>\n",
       "      <td>...</td>\n",
       "      <td>...</td>\n",
       "      <td>...</td>\n",
       "      <td>...</td>\n",
       "      <td>...</td>\n",
       "      <td>...</td>\n",
       "      <td>...</td>\n",
       "      <td>...</td>\n",
       "      <td>...</td>\n",
       "    </tr>\n",
       "    <tr>\n",
       "      <th>681</th>\n",
       "      <td>682</td>\n",
       "      <td>586</td>\n",
       "      <td>51</td>\n",
       "      <td>0</td>\n",
       "      <td>30</td>\n",
       "      <td>3</td>\n",
       "      <td>2</td>\n",
       "      <td>1152</td>\n",
       "      <td>38</td>\n",
       "      <td>1</td>\n",
       "      <td>1760</td>\n",
       "      <td>0</td>\n",
       "    </tr>\n",
       "    <tr>\n",
       "      <th>682</th>\n",
       "      <td>683</td>\n",
       "      <td>1273</td>\n",
       "      <td>64</td>\n",
       "      <td>1</td>\n",
       "      <td>26</td>\n",
       "      <td>2</td>\n",
       "      <td>2</td>\n",
       "      <td>1356</td>\n",
       "      <td>1144</td>\n",
       "      <td>1</td>\n",
       "      <td>1152</td>\n",
       "      <td>0</td>\n",
       "    </tr>\n",
       "    <tr>\n",
       "      <th>683</th>\n",
       "      <td>684</td>\n",
       "      <td>1525</td>\n",
       "      <td>57</td>\n",
       "      <td>1</td>\n",
       "      <td>35</td>\n",
       "      <td>3</td>\n",
       "      <td>1</td>\n",
       "      <td>1490</td>\n",
       "      <td>209</td>\n",
       "      <td>1</td>\n",
       "      <td>1342</td>\n",
       "      <td>0</td>\n",
       "    </tr>\n",
       "    <tr>\n",
       "      <th>684</th>\n",
       "      <td>685</td>\n",
       "      <td>736</td>\n",
       "      <td>44</td>\n",
       "      <td>0</td>\n",
       "      <td>21</td>\n",
       "      <td>2</td>\n",
       "      <td>3</td>\n",
       "      <td>1600</td>\n",
       "      <td>70</td>\n",
       "      <td>0</td>\n",
       "      <td>629</td>\n",
       "      <td>0</td>\n",
       "    </tr>\n",
       "    <tr>\n",
       "      <th>685</th>\n",
       "      <td>686</td>\n",
       "      <td>894</td>\n",
       "      <td>80</td>\n",
       "      <td>1</td>\n",
       "      <td>7</td>\n",
       "      <td>2</td>\n",
       "      <td>7</td>\n",
       "      <td>2380</td>\n",
       "      <td>972</td>\n",
       "      <td>1</td>\n",
       "      <td>758</td>\n",
       "      <td>0</td>\n",
       "    </tr>\n",
       "  </tbody>\n",
       "</table>\n",
       "<p>686 rows × 12 columns</p>\n",
       "</div>"
      ],
      "text/plain": [
       "     Unnamed: 0   pid  age  meno  size  grade  nodes   pgr    er  hormon  \\\n",
       "0             1   132   49     0    18      2      2     0     0       0   \n",
       "1             2  1575   55     1    20      3     16     0     0       0   \n",
       "2             3  1140   56     1    40      3      3     0     0       0   \n",
       "3             4   769   45     0    25      3      1     0     4       0   \n",
       "4             5   130   65     1    30      2      5     0    36       1   \n",
       "..          ...   ...  ...   ...   ...    ...    ...   ...   ...     ...   \n",
       "681         682   586   51     0    30      3      2  1152    38       1   \n",
       "682         683  1273   64     1    26      2      2  1356  1144       1   \n",
       "683         684  1525   57     1    35      3      1  1490   209       1   \n",
       "684         685   736   44     0    21      2      3  1600    70       0   \n",
       "685         686   894   80     1     7      2      7  2380   972       1   \n",
       "\n",
       "     rfstime  status  \n",
       "0       1838       0  \n",
       "1        403       1  \n",
       "2       1603       0  \n",
       "3        177       0  \n",
       "4       1855       0  \n",
       "..       ...     ...  \n",
       "681     1760       0  \n",
       "682     1152       0  \n",
       "683     1342       0  \n",
       "684      629       0  \n",
       "685      758       0  \n",
       "\n",
       "[686 rows x 12 columns]"
      ]
     },
     "execution_count": 7,
     "metadata": {},
     "output_type": "execute_result"
    }
   ],
   "source": [
    "df.drop(columns=['pid'])\n",
    "df"
   ]
  },
  {
   "cell_type": "code",
   "execution_count": 8,
   "id": "c46d23f5",
   "metadata": {},
   "outputs": [
    {
     "data": {
      "text/html": [
       "<div>\n",
       "<style scoped>\n",
       "    .dataframe tbody tr th:only-of-type {\n",
       "        vertical-align: middle;\n",
       "    }\n",
       "\n",
       "    .dataframe tbody tr th {\n",
       "        vertical-align: top;\n",
       "    }\n",
       "\n",
       "    .dataframe thead th {\n",
       "        text-align: right;\n",
       "    }\n",
       "</style>\n",
       "<table border=\"1\" class=\"dataframe\">\n",
       "  <thead>\n",
       "    <tr style=\"text-align: right;\">\n",
       "      <th></th>\n",
       "      <th>pid</th>\n",
       "      <th>age</th>\n",
       "      <th>meno</th>\n",
       "      <th>size</th>\n",
       "      <th>grade</th>\n",
       "      <th>nodes</th>\n",
       "      <th>pgr</th>\n",
       "      <th>er</th>\n",
       "      <th>hormon</th>\n",
       "      <th>rfstime</th>\n",
       "      <th>status</th>\n",
       "    </tr>\n",
       "  </thead>\n",
       "  <tbody>\n",
       "    <tr>\n",
       "      <th>0</th>\n",
       "      <td>132</td>\n",
       "      <td>49</td>\n",
       "      <td>0</td>\n",
       "      <td>18</td>\n",
       "      <td>2</td>\n",
       "      <td>2</td>\n",
       "      <td>0</td>\n",
       "      <td>0</td>\n",
       "      <td>0</td>\n",
       "      <td>1838</td>\n",
       "      <td>0</td>\n",
       "    </tr>\n",
       "    <tr>\n",
       "      <th>1</th>\n",
       "      <td>1575</td>\n",
       "      <td>55</td>\n",
       "      <td>1</td>\n",
       "      <td>20</td>\n",
       "      <td>3</td>\n",
       "      <td>16</td>\n",
       "      <td>0</td>\n",
       "      <td>0</td>\n",
       "      <td>0</td>\n",
       "      <td>403</td>\n",
       "      <td>1</td>\n",
       "    </tr>\n",
       "    <tr>\n",
       "      <th>2</th>\n",
       "      <td>1140</td>\n",
       "      <td>56</td>\n",
       "      <td>1</td>\n",
       "      <td>40</td>\n",
       "      <td>3</td>\n",
       "      <td>3</td>\n",
       "      <td>0</td>\n",
       "      <td>0</td>\n",
       "      <td>0</td>\n",
       "      <td>1603</td>\n",
       "      <td>0</td>\n",
       "    </tr>\n",
       "    <tr>\n",
       "      <th>3</th>\n",
       "      <td>769</td>\n",
       "      <td>45</td>\n",
       "      <td>0</td>\n",
       "      <td>25</td>\n",
       "      <td>3</td>\n",
       "      <td>1</td>\n",
       "      <td>0</td>\n",
       "      <td>4</td>\n",
       "      <td>0</td>\n",
       "      <td>177</td>\n",
       "      <td>0</td>\n",
       "    </tr>\n",
       "    <tr>\n",
       "      <th>4</th>\n",
       "      <td>130</td>\n",
       "      <td>65</td>\n",
       "      <td>1</td>\n",
       "      <td>30</td>\n",
       "      <td>2</td>\n",
       "      <td>5</td>\n",
       "      <td>0</td>\n",
       "      <td>36</td>\n",
       "      <td>1</td>\n",
       "      <td>1855</td>\n",
       "      <td>0</td>\n",
       "    </tr>\n",
       "    <tr>\n",
       "      <th>...</th>\n",
       "      <td>...</td>\n",
       "      <td>...</td>\n",
       "      <td>...</td>\n",
       "      <td>...</td>\n",
       "      <td>...</td>\n",
       "      <td>...</td>\n",
       "      <td>...</td>\n",
       "      <td>...</td>\n",
       "      <td>...</td>\n",
       "      <td>...</td>\n",
       "      <td>...</td>\n",
       "    </tr>\n",
       "    <tr>\n",
       "      <th>681</th>\n",
       "      <td>586</td>\n",
       "      <td>51</td>\n",
       "      <td>0</td>\n",
       "      <td>30</td>\n",
       "      <td>3</td>\n",
       "      <td>2</td>\n",
       "      <td>1152</td>\n",
       "      <td>38</td>\n",
       "      <td>1</td>\n",
       "      <td>1760</td>\n",
       "      <td>0</td>\n",
       "    </tr>\n",
       "    <tr>\n",
       "      <th>682</th>\n",
       "      <td>1273</td>\n",
       "      <td>64</td>\n",
       "      <td>1</td>\n",
       "      <td>26</td>\n",
       "      <td>2</td>\n",
       "      <td>2</td>\n",
       "      <td>1356</td>\n",
       "      <td>1144</td>\n",
       "      <td>1</td>\n",
       "      <td>1152</td>\n",
       "      <td>0</td>\n",
       "    </tr>\n",
       "    <tr>\n",
       "      <th>683</th>\n",
       "      <td>1525</td>\n",
       "      <td>57</td>\n",
       "      <td>1</td>\n",
       "      <td>35</td>\n",
       "      <td>3</td>\n",
       "      <td>1</td>\n",
       "      <td>1490</td>\n",
       "      <td>209</td>\n",
       "      <td>1</td>\n",
       "      <td>1342</td>\n",
       "      <td>0</td>\n",
       "    </tr>\n",
       "    <tr>\n",
       "      <th>684</th>\n",
       "      <td>736</td>\n",
       "      <td>44</td>\n",
       "      <td>0</td>\n",
       "      <td>21</td>\n",
       "      <td>2</td>\n",
       "      <td>3</td>\n",
       "      <td>1600</td>\n",
       "      <td>70</td>\n",
       "      <td>0</td>\n",
       "      <td>629</td>\n",
       "      <td>0</td>\n",
       "    </tr>\n",
       "    <tr>\n",
       "      <th>685</th>\n",
       "      <td>894</td>\n",
       "      <td>80</td>\n",
       "      <td>1</td>\n",
       "      <td>7</td>\n",
       "      <td>2</td>\n",
       "      <td>7</td>\n",
       "      <td>2380</td>\n",
       "      <td>972</td>\n",
       "      <td>1</td>\n",
       "      <td>758</td>\n",
       "      <td>0</td>\n",
       "    </tr>\n",
       "  </tbody>\n",
       "</table>\n",
       "<p>686 rows × 11 columns</p>\n",
       "</div>"
      ],
      "text/plain": [
       "      pid  age  meno  size  grade  nodes   pgr    er  hormon  rfstime  status\n",
       "0     132   49     0    18      2      2     0     0       0     1838       0\n",
       "1    1575   55     1    20      3     16     0     0       0      403       1\n",
       "2    1140   56     1    40      3      3     0     0       0     1603       0\n",
       "3     769   45     0    25      3      1     0     4       0      177       0\n",
       "4     130   65     1    30      2      5     0    36       1     1855       0\n",
       "..    ...  ...   ...   ...    ...    ...   ...   ...     ...      ...     ...\n",
       "681   586   51     0    30      3      2  1152    38       1     1760       0\n",
       "682  1273   64     1    26      2      2  1356  1144       1     1152       0\n",
       "683  1525   57     1    35      3      1  1490   209       1     1342       0\n",
       "684   736   44     0    21      2      3  1600    70       0      629       0\n",
       "685   894   80     1     7      2      7  2380   972       1      758       0\n",
       "\n",
       "[686 rows x 11 columns]"
      ]
     },
     "execution_count": 8,
     "metadata": {},
     "output_type": "execute_result"
    }
   ],
   "source": [
    "df=df.drop(columns=['Unnamed: 0'])\n",
    "df"
   ]
  },
  {
   "cell_type": "code",
   "execution_count": 9,
   "id": "fd002d59",
   "metadata": {},
   "outputs": [
    {
     "data": {
      "text/plain": [
       "0    387\n",
       "1    299\n",
       "Name: status, dtype: int64"
      ]
     },
     "execution_count": 9,
     "metadata": {},
     "output_type": "execute_result"
    }
   ],
   "source": [
    "df['status'].value_counts()"
   ]
  },
  {
   "cell_type": "markdown",
   "id": "e900d209",
   "metadata": {},
   "source": [
    "# Preprocesamiento de datos"
   ]
  },
  {
   "cell_type": "code",
   "execution_count": 10,
   "id": "5ca30873",
   "metadata": {},
   "outputs": [],
   "source": [
    "X = df.drop(columns =['status'])\n",
    "Y = df['status']"
   ]
  },
  {
   "cell_type": "code",
   "execution_count": 11,
   "id": "8f8dc0c7",
   "metadata": {},
   "outputs": [],
   "source": [
    "#tratamiento de datos faltantes"
   ]
  },
  {
   "cell_type": "code",
   "execution_count": 12,
   "id": "ee43faf7",
   "metadata": {},
   "outputs": [
    {
     "data": {
      "text/plain": [
       "0    387\n",
       "1    387\n",
       "Name: status, dtype: int64"
      ]
     },
     "execution_count": 12,
     "metadata": {},
     "output_type": "execute_result"
    }
   ],
   "source": [
    "#balanceo de clases\n",
    "oversample = SMOTE()\n",
    "X, Y = oversample.fit_resample(X, Y)\n",
    "Y.value_counts()"
   ]
  },
  {
   "cell_type": "markdown",
   "id": "e24470ea",
   "metadata": {},
   "source": [
    "# Division del dataset"
   ]
  },
  {
   "cell_type": "code",
   "execution_count": 13,
   "id": "d106528d",
   "metadata": {},
   "outputs": [],
   "source": [
    "x_train, x_test, y_train, y_test = train_test_split(X, Y, test_size=0.30)"
   ]
  },
  {
   "cell_type": "markdown",
   "id": "6a36385b",
   "metadata": {},
   "source": [
    "# Clasificadores"
   ]
  },
  {
   "cell_type": "code",
   "execution_count": 14,
   "id": "8ccd5d12",
   "metadata": {},
   "outputs": [
    {
     "name": "stdout",
     "output_type": "stream",
     "text": [
      "accurancy:  76.39484978540773\n"
     ]
    }
   ],
   "source": [
    "#decision tree\n",
    "model = DecisionTreeClassifier()\n",
    "model.fit(x_train, y_train)\n",
    "print(\"accurancy: \",model.score(x_test, y_test)*100)"
   ]
  },
  {
   "cell_type": "code",
   "execution_count": 15,
   "id": "2c42bac4",
   "metadata": {},
   "outputs": [],
   "source": [
    "scoring=['accuracy','precision_weighted','recall_weighted','f1_weighted']\n",
    "result = cross_validate(model,X,Y,cv=10,scoring=scoring)"
   ]
  },
  {
   "cell_type": "code",
   "execution_count": 16,
   "id": "16222954",
   "metadata": {},
   "outputs": [
    {
     "data": {
      "text/plain": [
       "(10, 6)"
      ]
     },
     "execution_count": 16,
     "metadata": {},
     "output_type": "execute_result"
    }
   ],
   "source": [
    "results = pd.DataFrame(result)\n",
    "results.shape"
   ]
  },
  {
   "cell_type": "code",
   "execution_count": 17,
   "id": "7b00c4dc",
   "metadata": {},
   "outputs": [
    {
     "data": {
      "text/html": [
       "<div>\n",
       "<style scoped>\n",
       "    .dataframe tbody tr th:only-of-type {\n",
       "        vertical-align: middle;\n",
       "    }\n",
       "\n",
       "    .dataframe tbody tr th {\n",
       "        vertical-align: top;\n",
       "    }\n",
       "\n",
       "    .dataframe thead th {\n",
       "        text-align: right;\n",
       "    }\n",
       "</style>\n",
       "<table border=\"1\" class=\"dataframe\">\n",
       "  <thead>\n",
       "    <tr style=\"text-align: right;\">\n",
       "      <th></th>\n",
       "      <th>fit_time</th>\n",
       "      <th>score_time</th>\n",
       "      <th>test_accuracy</th>\n",
       "      <th>test_precision_weighted</th>\n",
       "      <th>test_recall_weighted</th>\n",
       "      <th>test_f1_weighted</th>\n",
       "    </tr>\n",
       "  </thead>\n",
       "  <tbody>\n",
       "    <tr>\n",
       "      <th>0</th>\n",
       "      <td>0.013999</td>\n",
       "      <td>0.013003</td>\n",
       "      <td>0.756410</td>\n",
       "      <td>0.770833</td>\n",
       "      <td>0.756410</td>\n",
       "      <td>0.753123</td>\n",
       "    </tr>\n",
       "    <tr>\n",
       "      <th>1</th>\n",
       "      <td>0.009998</td>\n",
       "      <td>0.011000</td>\n",
       "      <td>0.730769</td>\n",
       "      <td>0.759615</td>\n",
       "      <td>0.730769</td>\n",
       "      <td>0.723077</td>\n",
       "    </tr>\n",
       "    <tr>\n",
       "      <th>2</th>\n",
       "      <td>0.011999</td>\n",
       "      <td>0.017002</td>\n",
       "      <td>0.846154</td>\n",
       "      <td>0.849834</td>\n",
       "      <td>0.846154</td>\n",
       "      <td>0.845748</td>\n",
       "    </tr>\n",
       "    <tr>\n",
       "      <th>3</th>\n",
       "      <td>0.012001</td>\n",
       "      <td>0.014000</td>\n",
       "      <td>0.756410</td>\n",
       "      <td>0.757937</td>\n",
       "      <td>0.756410</td>\n",
       "      <td>0.756049</td>\n",
       "    </tr>\n",
       "    <tr>\n",
       "      <th>4</th>\n",
       "      <td>0.013001</td>\n",
       "      <td>0.013000</td>\n",
       "      <td>0.779221</td>\n",
       "      <td>0.779335</td>\n",
       "      <td>0.779221</td>\n",
       "      <td>0.779146</td>\n",
       "    </tr>\n",
       "    <tr>\n",
       "      <th>5</th>\n",
       "      <td>0.009001</td>\n",
       "      <td>0.011001</td>\n",
       "      <td>0.701299</td>\n",
       "      <td>0.707483</td>\n",
       "      <td>0.701299</td>\n",
       "      <td>0.698447</td>\n",
       "    </tr>\n",
       "    <tr>\n",
       "      <th>6</th>\n",
       "      <td>0.008003</td>\n",
       "      <td>0.013003</td>\n",
       "      <td>0.688312</td>\n",
       "      <td>0.715613</td>\n",
       "      <td>0.688312</td>\n",
       "      <td>0.676836</td>\n",
       "    </tr>\n",
       "    <tr>\n",
       "      <th>7</th>\n",
       "      <td>0.012996</td>\n",
       "      <td>0.015005</td>\n",
       "      <td>0.714286</td>\n",
       "      <td>0.720189</td>\n",
       "      <td>0.714286</td>\n",
       "      <td>0.712834</td>\n",
       "    </tr>\n",
       "    <tr>\n",
       "      <th>8</th>\n",
       "      <td>0.011997</td>\n",
       "      <td>0.024012</td>\n",
       "      <td>0.844156</td>\n",
       "      <td>0.852435</td>\n",
       "      <td>0.844156</td>\n",
       "      <td>0.843043</td>\n",
       "    </tr>\n",
       "    <tr>\n",
       "      <th>9</th>\n",
       "      <td>0.009000</td>\n",
       "      <td>0.013002</td>\n",
       "      <td>0.623377</td>\n",
       "      <td>0.650974</td>\n",
       "      <td>0.623377</td>\n",
       "      <td>0.602815</td>\n",
       "    </tr>\n",
       "  </tbody>\n",
       "</table>\n",
       "</div>"
      ],
      "text/plain": [
       "   fit_time  score_time  test_accuracy  test_precision_weighted  \\\n",
       "0  0.013999    0.013003       0.756410                 0.770833   \n",
       "1  0.009998    0.011000       0.730769                 0.759615   \n",
       "2  0.011999    0.017002       0.846154                 0.849834   \n",
       "3  0.012001    0.014000       0.756410                 0.757937   \n",
       "4  0.013001    0.013000       0.779221                 0.779335   \n",
       "5  0.009001    0.011001       0.701299                 0.707483   \n",
       "6  0.008003    0.013003       0.688312                 0.715613   \n",
       "7  0.012996    0.015005       0.714286                 0.720189   \n",
       "8  0.011997    0.024012       0.844156                 0.852435   \n",
       "9  0.009000    0.013002       0.623377                 0.650974   \n",
       "\n",
       "   test_recall_weighted  test_f1_weighted  \n",
       "0              0.756410          0.753123  \n",
       "1              0.730769          0.723077  \n",
       "2              0.846154          0.845748  \n",
       "3              0.756410          0.756049  \n",
       "4              0.779221          0.779146  \n",
       "5              0.701299          0.698447  \n",
       "6              0.688312          0.676836  \n",
       "7              0.714286          0.712834  \n",
       "8              0.844156          0.843043  \n",
       "9              0.623377          0.602815  "
      ]
     },
     "execution_count": 17,
     "metadata": {},
     "output_type": "execute_result"
    }
   ],
   "source": [
    "results.head(10)"
   ]
  },
  {
   "cell_type": "code",
   "execution_count": 18,
   "id": "c5a1340b",
   "metadata": {},
   "outputs": [
    {
     "data": {
      "text/plain": [
       "0.7440392940392941"
      ]
     },
     "execution_count": 18,
     "metadata": {},
     "output_type": "execute_result"
    }
   ],
   "source": [
    "results['test_accuracy'].mean()"
   ]
  },
  {
   "cell_type": "code",
   "execution_count": 19,
   "id": "99c02779",
   "metadata": {},
   "outputs": [
    {
     "data": {
      "text/plain": [
       "0.7440392940392941"
      ]
     },
     "execution_count": 19,
     "metadata": {},
     "output_type": "execute_result"
    }
   ],
   "source": [
    "results['test_recall_weighted'].mean()"
   ]
  },
  {
   "cell_type": "code",
   "execution_count": 20,
   "id": "69c6a693",
   "metadata": {},
   "outputs": [
    {
     "data": {
      "text/plain": [
       "0.7564247523044518"
      ]
     },
     "execution_count": 20,
     "metadata": {},
     "output_type": "execute_result"
    }
   ],
   "source": [
    "results['test_precision_weighted'].mean()"
   ]
  },
  {
   "cell_type": "code",
   "execution_count": 21,
   "id": "f0d45100",
   "metadata": {},
   "outputs": [
    {
     "data": {
      "text/plain": [
       "0.7391119114846668"
      ]
     },
     "execution_count": 21,
     "metadata": {},
     "output_type": "execute_result"
    }
   ],
   "source": [
    "results['test_f1_weighted'].mean()"
   ]
  },
  {
   "cell_type": "code",
   "execution_count": 22,
   "id": "4876639e",
   "metadata": {},
   "outputs": [],
   "source": [
    "# Random Forest"
   ]
  },
  {
   "cell_type": "code",
   "execution_count": 23,
   "id": "f59f96c9",
   "metadata": {},
   "outputs": [
    {
     "data": {
      "text/plain": [
       "(10, 6)"
      ]
     },
     "execution_count": 23,
     "metadata": {},
     "output_type": "execute_result"
    }
   ],
   "source": [
    "model = RandomForestClassifier()\n",
    "model.fit(x_train, y_train)\n",
    "scoring=['accuracy','precision_weighted','recall_weighted','f1_weighted']\n",
    "result = cross_validate(model,X,Y,cv=10,scoring=scoring)\n",
    "results = pd.DataFrame(result)\n",
    "results.shape"
   ]
  },
  {
   "cell_type": "code",
   "execution_count": 24,
   "id": "cbb66ad0",
   "metadata": {},
   "outputs": [
    {
     "data": {
      "text/plain": [
       "0.744039294039294"
      ]
     },
     "execution_count": 24,
     "metadata": {},
     "output_type": "execute_result"
    }
   ],
   "source": [
    "results['test_accuracy'].mean()"
   ]
  },
  {
   "cell_type": "code",
   "execution_count": 25,
   "id": "17b1ad8e",
   "metadata": {},
   "outputs": [
    {
     "data": {
      "text/plain": [
       "0.744039294039294"
      ]
     },
     "execution_count": 25,
     "metadata": {},
     "output_type": "execute_result"
    }
   ],
   "source": [
    "results['test_recall_weighted'].mean()"
   ]
  },
  {
   "cell_type": "code",
   "execution_count": 26,
   "id": "c06dd6c4",
   "metadata": {},
   "outputs": [
    {
     "data": {
      "text/plain": [
       "0.7613561674089016"
      ]
     },
     "execution_count": 26,
     "metadata": {},
     "output_type": "execute_result"
    }
   ],
   "source": [
    "results['test_precision_weighted'].mean()"
   ]
  },
  {
   "cell_type": "code",
   "execution_count": 27,
   "id": "11ef8aa6",
   "metadata": {},
   "outputs": [
    {
     "data": {
      "text/plain": [
       "0.7363716017338399"
      ]
     },
     "execution_count": 27,
     "metadata": {},
     "output_type": "execute_result"
    }
   ],
   "source": [
    "results['test_f1_weighted'].mean()"
   ]
  },
  {
   "cell_type": "code",
   "execution_count": 28,
   "id": "b61ddca3",
   "metadata": {},
   "outputs": [],
   "source": [
    "#AdaBoost"
   ]
  },
  {
   "cell_type": "code",
   "execution_count": 29,
   "id": "be79896e",
   "metadata": {},
   "outputs": [
    {
     "data": {
      "text/plain": [
       "(10, 6)"
      ]
     },
     "execution_count": 29,
     "metadata": {},
     "output_type": "execute_result"
    }
   ],
   "source": [
    "model = AdaBoostClassifier()\n",
    "model.fit(x_train, y_train)\n",
    "scoring=['accuracy','precision_weighted','recall_weighted','f1_weighted']\n",
    "result = cross_validate(model,X,Y,cv=10,scoring=scoring)\n",
    "results = pd.DataFrame(result)\n",
    "results.shape"
   ]
  },
  {
   "cell_type": "code",
   "execution_count": 30,
   "id": "90fb159c",
   "metadata": {},
   "outputs": [
    {
     "data": {
      "text/plain": [
       "0.6807858807858809"
      ]
     },
     "execution_count": 30,
     "metadata": {},
     "output_type": "execute_result"
    }
   ],
   "source": [
    "results['test_accuracy'].mean()"
   ]
  },
  {
   "cell_type": "code",
   "execution_count": 31,
   "id": "283545bc",
   "metadata": {},
   "outputs": [
    {
     "data": {
      "text/plain": [
       "0.6807858807858809"
      ]
     },
     "execution_count": 31,
     "metadata": {},
     "output_type": "execute_result"
    }
   ],
   "source": [
    "results['test_recall_weighted'].mean()"
   ]
  },
  {
   "cell_type": "code",
   "execution_count": 32,
   "id": "393cc40e",
   "metadata": {},
   "outputs": [
    {
     "data": {
      "text/plain": [
       "0.709115181718095"
      ]
     },
     "execution_count": 32,
     "metadata": {},
     "output_type": "execute_result"
    }
   ],
   "source": [
    "results['test_precision_weighted'].mean()"
   ]
  },
  {
   "cell_type": "code",
   "execution_count": 33,
   "id": "9712e88e",
   "metadata": {},
   "outputs": [
    {
     "data": {
      "text/plain": [
       "0.6576227719551325"
      ]
     },
     "execution_count": 33,
     "metadata": {},
     "output_type": "execute_result"
    }
   ],
   "source": [
    "results['test_f1_weighted'].mean()"
   ]
  },
  {
   "cell_type": "code",
   "execution_count": 34,
   "id": "25674db3",
   "metadata": {},
   "outputs": [],
   "source": [
    "#ExtraTrees "
   ]
  },
  {
   "cell_type": "code",
   "execution_count": 35,
   "id": "93465e4b",
   "metadata": {},
   "outputs": [
    {
     "data": {
      "text/plain": [
       "(10, 6)"
      ]
     },
     "execution_count": 35,
     "metadata": {},
     "output_type": "execute_result"
    }
   ],
   "source": [
    "model = ExtraTreesClassifier()\n",
    "model.fit(x_train, y_train)\n",
    "scoring=['accuracy','precision_weighted','recall_weighted','f1_weighted']\n",
    "result = cross_validate(model,X,Y,cv=10,scoring=scoring)\n",
    "results = pd.DataFrame(result)\n",
    "results.shape"
   ]
  },
  {
   "cell_type": "code",
   "execution_count": 36,
   "id": "8e89ee60",
   "metadata": {},
   "outputs": [
    {
     "data": {
      "text/plain": [
       "0.7621212121212122"
      ]
     },
     "execution_count": 36,
     "metadata": {},
     "output_type": "execute_result"
    }
   ],
   "source": [
    "results['test_accuracy'].mean()"
   ]
  },
  {
   "cell_type": "code",
   "execution_count": 37,
   "id": "f1c4dc03",
   "metadata": {},
   "outputs": [
    {
     "data": {
      "text/plain": [
       "0.7621212121212122"
      ]
     },
     "execution_count": 37,
     "metadata": {},
     "output_type": "execute_result"
    }
   ],
   "source": [
    "results['test_recall_weighted'].mean()"
   ]
  },
  {
   "cell_type": "code",
   "execution_count": 38,
   "id": "a276fa07",
   "metadata": {},
   "outputs": [
    {
     "data": {
      "text/plain": [
       "0.7728794484964563"
      ]
     },
     "execution_count": 38,
     "metadata": {},
     "output_type": "execute_result"
    }
   ],
   "source": [
    "results['test_precision_weighted'].mean()"
   ]
  },
  {
   "cell_type": "code",
   "execution_count": 39,
   "id": "0e35ac8e",
   "metadata": {},
   "outputs": [
    {
     "data": {
      "text/plain": [
       "0.7573937788418537"
      ]
     },
     "execution_count": 39,
     "metadata": {},
     "output_type": "execute_result"
    }
   ],
   "source": [
    "results['test_f1_weighted'].mean()"
   ]
  },
  {
   "cell_type": "code",
   "execution_count": 40,
   "id": "8bc7141b",
   "metadata": {},
   "outputs": [],
   "source": [
    "#KNeighbors"
   ]
  },
  {
   "cell_type": "code",
   "execution_count": 41,
   "id": "8a4da5b9",
   "metadata": {},
   "outputs": [
    {
     "data": {
      "text/plain": [
       "(10, 6)"
      ]
     },
     "execution_count": 41,
     "metadata": {},
     "output_type": "execute_result"
    }
   ],
   "source": [
    "model = KNeighborsClassifier()\n",
    "model.fit(x_train, y_train)\n",
    "scoring=['accuracy','precision_weighted','recall_weighted','f1_weighted']\n",
    "result = cross_validate(model,X,Y,cv=10,scoring=scoring)\n",
    "results = pd.DataFrame(result)\n",
    "results.shape"
   ]
  },
  {
   "cell_type": "code",
   "execution_count": 42,
   "id": "db6277cd",
   "metadata": {},
   "outputs": [
    {
     "data": {
      "text/plain": [
       "0.7568265068265069"
      ]
     },
     "execution_count": 42,
     "metadata": {},
     "output_type": "execute_result"
    }
   ],
   "source": [
    "results['test_accuracy'].mean()"
   ]
  },
  {
   "cell_type": "code",
   "execution_count": 43,
   "id": "63137a07",
   "metadata": {},
   "outputs": [
    {
     "data": {
      "text/plain": [
       "0.7568265068265069"
      ]
     },
     "execution_count": 43,
     "metadata": {},
     "output_type": "execute_result"
    }
   ],
   "source": [
    "results['test_recall_weighted'].mean()"
   ]
  },
  {
   "cell_type": "code",
   "execution_count": 44,
   "id": "13f7d1a5",
   "metadata": {},
   "outputs": [
    {
     "data": {
      "text/plain": [
       "0.7675501098808258"
      ]
     },
     "execution_count": 44,
     "metadata": {},
     "output_type": "execute_result"
    }
   ],
   "source": [
    "results['test_precision_weighted'].mean()"
   ]
  },
  {
   "cell_type": "code",
   "execution_count": 45,
   "id": "b013ec61",
   "metadata": {},
   "outputs": [
    {
     "data": {
      "text/plain": [
       "0.7536786816649651"
      ]
     },
     "execution_count": 45,
     "metadata": {},
     "output_type": "execute_result"
    }
   ],
   "source": [
    "results['test_f1_weighted'].mean()"
   ]
  },
  {
   "cell_type": "code",
   "execution_count": 46,
   "id": "54dbeed1",
   "metadata": {},
   "outputs": [],
   "source": [
    "#GaussianNB"
   ]
  },
  {
   "cell_type": "code",
   "execution_count": 47,
   "id": "78e09396",
   "metadata": {},
   "outputs": [
    {
     "data": {
      "text/plain": [
       "(10, 6)"
      ]
     },
     "execution_count": 47,
     "metadata": {},
     "output_type": "execute_result"
    }
   ],
   "source": [
    "model = GaussianNB()\n",
    "model.fit(x_train, y_train)\n",
    "scoring=['accuracy','precision_weighted','recall_weighted','f1_weighted']\n",
    "result = cross_validate(model,X,Y,cv=10,scoring=scoring)\n",
    "results = pd.DataFrame(result)\n",
    "results.shape"
   ]
  },
  {
   "cell_type": "code",
   "execution_count": 48,
   "id": "e9a8bc56",
   "metadata": {},
   "outputs": [
    {
     "data": {
      "text/plain": [
       "0.6587912087912088"
      ]
     },
     "execution_count": 48,
     "metadata": {},
     "output_type": "execute_result"
    }
   ],
   "source": [
    "results['test_accuracy'].mean()"
   ]
  },
  {
   "cell_type": "code",
   "execution_count": 49,
   "id": "6a0ef22c",
   "metadata": {},
   "outputs": [
    {
     "data": {
      "text/plain": [
       "0.6587912087912088"
      ]
     },
     "execution_count": 49,
     "metadata": {},
     "output_type": "execute_result"
    }
   ],
   "source": [
    "results['test_recall_weighted'].mean()"
   ]
  },
  {
   "cell_type": "code",
   "execution_count": 50,
   "id": "8b003a8a",
   "metadata": {},
   "outputs": [
    {
     "data": {
      "text/plain": [
       "0.6809054758508589"
      ]
     },
     "execution_count": 50,
     "metadata": {},
     "output_type": "execute_result"
    }
   ],
   "source": [
    "results['test_precision_weighted'].mean()"
   ]
  },
  {
   "cell_type": "code",
   "execution_count": 51,
   "id": "fac268ff",
   "metadata": {},
   "outputs": [
    {
     "data": {
      "text/plain": [
       "0.644952212794254"
      ]
     },
     "execution_count": 51,
     "metadata": {},
     "output_type": "execute_result"
    }
   ],
   "source": [
    "results['test_f1_weighted'].mean()"
   ]
  }
 ],
 "metadata": {
  "kernelspec": {
   "display_name": "Python 3 (ipykernel)",
   "language": "python",
   "name": "python3"
  },
  "language_info": {
   "codemirror_mode": {
    "name": "ipython",
    "version": 3
   },
   "file_extension": ".py",
   "mimetype": "text/x-python",
   "name": "python",
   "nbconvert_exporter": "python",
   "pygments_lexer": "ipython3",
   "version": "3.10.9"
  }
 },
 "nbformat": 4,
 "nbformat_minor": 5
}
