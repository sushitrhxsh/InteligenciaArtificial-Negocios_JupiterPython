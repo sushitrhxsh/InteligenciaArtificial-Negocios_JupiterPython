{
 "cells": [
  {
   "cell_type": "markdown",
   "id": "7a1d3966",
   "metadata": {},
   "source": [
    "# Proyecto Final"
   ]
  },
  {
   "cell_type": "code",
   "execution_count": 1,
   "id": "6c16ffef",
   "metadata": {},
   "outputs": [],
   "source": [
    "#Importar librerias\n",
    "import numpy as np\n",
    "import pandas as pd\n",
    "import matplotlib.pyplot as plt\n",
    "import sklearn\n",
    "from sklearn.model_selection import train_test_split\n",
    "from sklearn.tree import DecisionTreeClassifier\n",
    "from sklearn import datasets\n",
    "from imblearn.over_sampling import SMOTE\n",
    "from sklearn.model_selection import cross_validate\n",
    "#Classifiers\n",
    "from sklearn.svm import LinearSVC, SVC #smo\n",
    "from sklearn.tree import DecisionTreeClassifier #j48\n",
    "from sklearn.ensemble import RandomForestClassifier, AdaBoostClassifier, ExtraTreesClassifier #adaboost\n",
    "from sklearn.neighbors import KNeighborsClassifier\n",
    "from sklearn.naive_bayes import GaussianNB #NB"
   ]
  },
  {
   "cell_type": "code",
   "execution_count": 2,
   "id": "b1bca4a9",
   "metadata": {},
   "outputs": [
    {
     "data": {
      "text/html": [
       "<div>\n",
       "<style scoped>\n",
       "    .dataframe tbody tr th:only-of-type {\n",
       "        vertical-align: middle;\n",
       "    }\n",
       "\n",
       "    .dataframe tbody tr th {\n",
       "        vertical-align: top;\n",
       "    }\n",
       "\n",
       "    .dataframe thead th {\n",
       "        text-align: right;\n",
       "    }\n",
       "</style>\n",
       "<table border=\"1\" class=\"dataframe\">\n",
       "  <thead>\n",
       "    <tr style=\"text-align: right;\">\n",
       "      <th></th>\n",
       "      <th>semestre</th>\n",
       "      <th>StepsT</th>\n",
       "      <th>StepsA</th>\n",
       "      <th>StepsSD</th>\n",
       "      <th>DistT</th>\n",
       "      <th>DistA</th>\n",
       "      <th>DistSD</th>\n",
       "      <th>HRA</th>\n",
       "      <th>HRSD</th>\n",
       "      <th>floorsT</th>\n",
       "      <th>floorsA</th>\n",
       "      <th>floorsSD</th>\n",
       "      <th>SuenoLigero</th>\n",
       "      <th>SuenoProfundo</th>\n",
       "      <th>Clase</th>\n",
       "    </tr>\n",
       "  </thead>\n",
       "  <tbody>\n",
       "    <tr>\n",
       "      <th>0</th>\n",
       "      <td>8</td>\n",
       "      <td>651</td>\n",
       "      <td>10.8500</td>\n",
       "      <td>18.2719</td>\n",
       "      <td>0.2044</td>\n",
       "      <td>0.0034</td>\n",
       "      <td>0.0081</td>\n",
       "      <td>88.53</td>\n",
       "      <td>7.9134</td>\n",
       "      <td>1</td>\n",
       "      <td>0.0167</td>\n",
       "      <td>0.128</td>\n",
       "      <td>81</td>\n",
       "      <td>483</td>\n",
       "      <td>1</td>\n",
       "    </tr>\n",
       "    <tr>\n",
       "      <th>1</th>\n",
       "      <td>6</td>\n",
       "      <td>9</td>\n",
       "      <td>0.1500</td>\n",
       "      <td>1.1522</td>\n",
       "      <td>0.0061</td>\n",
       "      <td>0.0001</td>\n",
       "      <td>0.0008</td>\n",
       "      <td>79.93</td>\n",
       "      <td>4.6147</td>\n",
       "      <td>0</td>\n",
       "      <td>0.0000</td>\n",
       "      <td>0.000</td>\n",
       "      <td>20</td>\n",
       "      <td>285</td>\n",
       "      <td>2</td>\n",
       "    </tr>\n",
       "    <tr>\n",
       "      <th>2</th>\n",
       "      <td>6</td>\n",
       "      <td>42</td>\n",
       "      <td>0.7000</td>\n",
       "      <td>2.3826</td>\n",
       "      <td>0.0196</td>\n",
       "      <td>0.0003</td>\n",
       "      <td>0.0013</td>\n",
       "      <td>90.65</td>\n",
       "      <td>4.6434</td>\n",
       "      <td>0</td>\n",
       "      <td>0.0000</td>\n",
       "      <td>0.000</td>\n",
       "      <td>43</td>\n",
       "      <td>320</td>\n",
       "      <td>2</td>\n",
       "    </tr>\n",
       "    <tr>\n",
       "      <th>3</th>\n",
       "      <td>8</td>\n",
       "      <td>378</td>\n",
       "      <td>6.3000</td>\n",
       "      <td>11.1763</td>\n",
       "      <td>0.2731</td>\n",
       "      <td>0.0046</td>\n",
       "      <td>0.0081</td>\n",
       "      <td>86.05</td>\n",
       "      <td>5.9594</td>\n",
       "      <td>0</td>\n",
       "      <td>0.0000</td>\n",
       "      <td>0.000</td>\n",
       "      <td>16</td>\n",
       "      <td>475</td>\n",
       "      <td>1</td>\n",
       "    </tr>\n",
       "    <tr>\n",
       "      <th>4</th>\n",
       "      <td>8</td>\n",
       "      <td>32</td>\n",
       "      <td>0.5333</td>\n",
       "      <td>2.3977</td>\n",
       "      <td>0.0221</td>\n",
       "      <td>0.0004</td>\n",
       "      <td>0.0017</td>\n",
       "      <td>75.28</td>\n",
       "      <td>4.7049</td>\n",
       "      <td>0</td>\n",
       "      <td>0.0000</td>\n",
       "      <td>0.000</td>\n",
       "      <td>21</td>\n",
       "      <td>184</td>\n",
       "      <td>2</td>\n",
       "    </tr>\n",
       "    <tr>\n",
       "      <th>...</th>\n",
       "      <td>...</td>\n",
       "      <td>...</td>\n",
       "      <td>...</td>\n",
       "      <td>...</td>\n",
       "      <td>...</td>\n",
       "      <td>...</td>\n",
       "      <td>...</td>\n",
       "      <td>...</td>\n",
       "      <td>...</td>\n",
       "      <td>...</td>\n",
       "      <td>...</td>\n",
       "      <td>...</td>\n",
       "      <td>...</td>\n",
       "      <td>...</td>\n",
       "      <td>...</td>\n",
       "    </tr>\n",
       "    <tr>\n",
       "      <th>1472</th>\n",
       "      <td>8</td>\n",
       "      <td>294</td>\n",
       "      <td>4.9000</td>\n",
       "      <td>10.9601</td>\n",
       "      <td>0.0000</td>\n",
       "      <td>0.0000</td>\n",
       "      <td>0.0000</td>\n",
       "      <td>69.47</td>\n",
       "      <td>4.1282</td>\n",
       "      <td>0</td>\n",
       "      <td>0.0000</td>\n",
       "      <td>0.000</td>\n",
       "      <td>37</td>\n",
       "      <td>378</td>\n",
       "      <td>1</td>\n",
       "    </tr>\n",
       "    <tr>\n",
       "      <th>1473</th>\n",
       "      <td>8</td>\n",
       "      <td>17</td>\n",
       "      <td>0.2833</td>\n",
       "      <td>1.5285</td>\n",
       "      <td>0.0000</td>\n",
       "      <td>0.0000</td>\n",
       "      <td>0.0000</td>\n",
       "      <td>78.57</td>\n",
       "      <td>4.0635</td>\n",
       "      <td>0</td>\n",
       "      <td>0.0000</td>\n",
       "      <td>0.000</td>\n",
       "      <td>13</td>\n",
       "      <td>483</td>\n",
       "      <td>1</td>\n",
       "    </tr>\n",
       "    <tr>\n",
       "      <th>1474</th>\n",
       "      <td>8</td>\n",
       "      <td>190</td>\n",
       "      <td>3.1667</td>\n",
       "      <td>9.4572</td>\n",
       "      <td>0.0000</td>\n",
       "      <td>0.0000</td>\n",
       "      <td>0.0000</td>\n",
       "      <td>67.05</td>\n",
       "      <td>5.6875</td>\n",
       "      <td>0</td>\n",
       "      <td>0.0000</td>\n",
       "      <td>0.000</td>\n",
       "      <td>13</td>\n",
       "      <td>483</td>\n",
       "      <td>2</td>\n",
       "    </tr>\n",
       "    <tr>\n",
       "      <th>1475</th>\n",
       "      <td>8</td>\n",
       "      <td>128</td>\n",
       "      <td>2.1333</td>\n",
       "      <td>5.5811</td>\n",
       "      <td>0.0000</td>\n",
       "      <td>0.0000</td>\n",
       "      <td>0.0000</td>\n",
       "      <td>70.80</td>\n",
       "      <td>3.3754</td>\n",
       "      <td>0</td>\n",
       "      <td>0.0000</td>\n",
       "      <td>0.000</td>\n",
       "      <td>37</td>\n",
       "      <td>378</td>\n",
       "      <td>3</td>\n",
       "    </tr>\n",
       "    <tr>\n",
       "      <th>1476</th>\n",
       "      <td>6</td>\n",
       "      <td>0</td>\n",
       "      <td>0.0000</td>\n",
       "      <td>0.0000</td>\n",
       "      <td>0.0063</td>\n",
       "      <td>0.0001</td>\n",
       "      <td>0.0006</td>\n",
       "      <td>80.53</td>\n",
       "      <td>2.6550</td>\n",
       "      <td>0</td>\n",
       "      <td>0.0000</td>\n",
       "      <td>0.000</td>\n",
       "      <td>59</td>\n",
       "      <td>470</td>\n",
       "      <td>1</td>\n",
       "    </tr>\n",
       "  </tbody>\n",
       "</table>\n",
       "<p>1477 rows × 15 columns</p>\n",
       "</div>"
      ],
      "text/plain": [
       "      semestre  StepsT   StepsA  StepsSD   DistT   DistA  DistSD    HRA  \\\n",
       "0            8     651  10.8500  18.2719  0.2044  0.0034  0.0081  88.53   \n",
       "1            6       9   0.1500   1.1522  0.0061  0.0001  0.0008  79.93   \n",
       "2            6      42   0.7000   2.3826  0.0196  0.0003  0.0013  90.65   \n",
       "3            8     378   6.3000  11.1763  0.2731  0.0046  0.0081  86.05   \n",
       "4            8      32   0.5333   2.3977  0.0221  0.0004  0.0017  75.28   \n",
       "...        ...     ...      ...      ...     ...     ...     ...    ...   \n",
       "1472         8     294   4.9000  10.9601  0.0000  0.0000  0.0000  69.47   \n",
       "1473         8      17   0.2833   1.5285  0.0000  0.0000  0.0000  78.57   \n",
       "1474         8     190   3.1667   9.4572  0.0000  0.0000  0.0000  67.05   \n",
       "1475         8     128   2.1333   5.5811  0.0000  0.0000  0.0000  70.80   \n",
       "1476         6       0   0.0000   0.0000  0.0063  0.0001  0.0006  80.53   \n",
       "\n",
       "        HRSD  floorsT  floorsA  floorsSD  SuenoLigero  SuenoProfundo  Clase  \n",
       "0     7.9134        1   0.0167     0.128           81            483      1  \n",
       "1     4.6147        0   0.0000     0.000           20            285      2  \n",
       "2     4.6434        0   0.0000     0.000           43            320      2  \n",
       "3     5.9594        0   0.0000     0.000           16            475      1  \n",
       "4     4.7049        0   0.0000     0.000           21            184      2  \n",
       "...      ...      ...      ...       ...          ...            ...    ...  \n",
       "1472  4.1282        0   0.0000     0.000           37            378      1  \n",
       "1473  4.0635        0   0.0000     0.000           13            483      1  \n",
       "1474  5.6875        0   0.0000     0.000           13            483      2  \n",
       "1475  3.3754        0   0.0000     0.000           37            378      3  \n",
       "1476  2.6550        0   0.0000     0.000           59            470      1  \n",
       "\n",
       "[1477 rows x 15 columns]"
      ]
     },
     "execution_count": 2,
     "metadata": {},
     "output_type": "execute_result"
    }
   ],
   "source": [
    "#Cargar dataset\n",
    "df = pd.read_csv('C:/Users/azayas/Downloads/test02.csv')\n",
    "df"
   ]
  },
  {
   "cell_type": "markdown",
   "id": "baf46089",
   "metadata": {},
   "source": [
    "# Entendimiento de los datos"
   ]
  },
  {
   "cell_type": "code",
   "execution_count": 3,
   "id": "3d0528f1",
   "metadata": {},
   "outputs": [
    {
     "data": {
      "text/html": [
       "<div>\n",
       "<style scoped>\n",
       "    .dataframe tbody tr th:only-of-type {\n",
       "        vertical-align: middle;\n",
       "    }\n",
       "\n",
       "    .dataframe tbody tr th {\n",
       "        vertical-align: top;\n",
       "    }\n",
       "\n",
       "    .dataframe thead th {\n",
       "        text-align: right;\n",
       "    }\n",
       "</style>\n",
       "<table border=\"1\" class=\"dataframe\">\n",
       "  <thead>\n",
       "    <tr style=\"text-align: right;\">\n",
       "      <th></th>\n",
       "      <th>semestre</th>\n",
       "      <th>StepsT</th>\n",
       "      <th>StepsA</th>\n",
       "      <th>StepsSD</th>\n",
       "      <th>DistT</th>\n",
       "      <th>DistA</th>\n",
       "      <th>DistSD</th>\n",
       "      <th>HRA</th>\n",
       "      <th>HRSD</th>\n",
       "      <th>floorsT</th>\n",
       "      <th>floorsA</th>\n",
       "      <th>floorsSD</th>\n",
       "      <th>SuenoLigero</th>\n",
       "      <th>SuenoProfundo</th>\n",
       "      <th>Clase</th>\n",
       "    </tr>\n",
       "  </thead>\n",
       "  <tbody>\n",
       "    <tr>\n",
       "      <th>count</th>\n",
       "      <td>1477.000000</td>\n",
       "      <td>1477.000000</td>\n",
       "      <td>1477.000000</td>\n",
       "      <td>1477.000000</td>\n",
       "      <td>1477.000000</td>\n",
       "      <td>1477.000000</td>\n",
       "      <td>1477.000000</td>\n",
       "      <td>1477.000000</td>\n",
       "      <td>1477.000000</td>\n",
       "      <td>1477.000000</td>\n",
       "      <td>1477.000000</td>\n",
       "      <td>1477.000000</td>\n",
       "      <td>1477.000000</td>\n",
       "      <td>1477.000000</td>\n",
       "      <td>1477.000000</td>\n",
       "    </tr>\n",
       "    <tr>\n",
       "      <th>mean</th>\n",
       "      <td>7.248477</td>\n",
       "      <td>643.677725</td>\n",
       "      <td>5.158917</td>\n",
       "      <td>9.089846</td>\n",
       "      <td>0.453915</td>\n",
       "      <td>0.003034</td>\n",
       "      <td>0.005682</td>\n",
       "      <td>83.511547</td>\n",
       "      <td>6.700330</td>\n",
       "      <td>0.657414</td>\n",
       "      <td>0.005902</td>\n",
       "      <td>0.039350</td>\n",
       "      <td>27.568043</td>\n",
       "      <td>374.108328</td>\n",
       "      <td>1.610020</td>\n",
       "    </tr>\n",
       "    <tr>\n",
       "      <th>std</th>\n",
       "      <td>0.968966</td>\n",
       "      <td>10061.841653</td>\n",
       "      <td>7.617330</td>\n",
       "      <td>8.244214</td>\n",
       "      <td>7.566942</td>\n",
       "      <td>0.004574</td>\n",
       "      <td>0.005566</td>\n",
       "      <td>10.677834</td>\n",
       "      <td>3.218145</td>\n",
       "      <td>9.197496</td>\n",
       "      <td>0.017612</td>\n",
       "      <td>0.269846</td>\n",
       "      <td>18.689780</td>\n",
       "      <td>133.587818</td>\n",
       "      <td>0.702961</td>\n",
       "    </tr>\n",
       "    <tr>\n",
       "      <th>min</th>\n",
       "      <td>6.000000</td>\n",
       "      <td>0.000000</td>\n",
       "      <td>0.000000</td>\n",
       "      <td>0.000000</td>\n",
       "      <td>0.000000</td>\n",
       "      <td>0.000000</td>\n",
       "      <td>0.000000</td>\n",
       "      <td>50.670000</td>\n",
       "      <td>0.000000</td>\n",
       "      <td>0.000000</td>\n",
       "      <td>0.000000</td>\n",
       "      <td>0.000000</td>\n",
       "      <td>1.000000</td>\n",
       "      <td>51.000000</td>\n",
       "      <td>1.000000</td>\n",
       "    </tr>\n",
       "    <tr>\n",
       "      <th>25%</th>\n",
       "      <td>6.000000</td>\n",
       "      <td>43.000000</td>\n",
       "      <td>0.716700</td>\n",
       "      <td>2.933500</td>\n",
       "      <td>0.018100</td>\n",
       "      <td>0.000300</td>\n",
       "      <td>0.001300</td>\n",
       "      <td>76.570000</td>\n",
       "      <td>4.561800</td>\n",
       "      <td>0.000000</td>\n",
       "      <td>0.000000</td>\n",
       "      <td>0.000000</td>\n",
       "      <td>13.000000</td>\n",
       "      <td>320.000000</td>\n",
       "      <td>1.000000</td>\n",
       "    </tr>\n",
       "    <tr>\n",
       "      <th>50%</th>\n",
       "      <td>8.000000</td>\n",
       "      <td>159.000000</td>\n",
       "      <td>2.633300</td>\n",
       "      <td>7.321400</td>\n",
       "      <td>0.087600</td>\n",
       "      <td>0.001400</td>\n",
       "      <td>0.004400</td>\n",
       "      <td>82.680000</td>\n",
       "      <td>6.161200</td>\n",
       "      <td>0.000000</td>\n",
       "      <td>0.000000</td>\n",
       "      <td>0.000000</td>\n",
       "      <td>23.000000</td>\n",
       "      <td>402.000000</td>\n",
       "      <td>1.000000</td>\n",
       "    </tr>\n",
       "    <tr>\n",
       "      <th>75%</th>\n",
       "      <td>8.000000</td>\n",
       "      <td>374.000000</td>\n",
       "      <td>6.200000</td>\n",
       "      <td>12.531100</td>\n",
       "      <td>0.233300</td>\n",
       "      <td>0.003800</td>\n",
       "      <td>0.008200</td>\n",
       "      <td>90.130000</td>\n",
       "      <td>8.173300</td>\n",
       "      <td>0.000000</td>\n",
       "      <td>0.000000</td>\n",
       "      <td>0.000000</td>\n",
       "      <td>40.000000</td>\n",
       "      <td>465.000000</td>\n",
       "      <td>2.000000</td>\n",
       "    </tr>\n",
       "    <tr>\n",
       "      <th>max</th>\n",
       "      <td>8.000000</td>\n",
       "      <td>365453.000000</td>\n",
       "      <td>68.000000</td>\n",
       "      <td>49.174200</td>\n",
       "      <td>254.960900</td>\n",
       "      <td>0.043100</td>\n",
       "      <td>0.033600</td>\n",
       "      <td>147.310000</td>\n",
       "      <td>48.226500</td>\n",
       "      <td>333.000000</td>\n",
       "      <td>0.300000</td>\n",
       "      <td>10.000000</td>\n",
       "      <td>91.000000</td>\n",
       "      <td>656.000000</td>\n",
       "      <td>3.000000</td>\n",
       "    </tr>\n",
       "  </tbody>\n",
       "</table>\n",
       "</div>"
      ],
      "text/plain": [
       "          semestre         StepsT       StepsA      StepsSD        DistT  \\\n",
       "count  1477.000000    1477.000000  1477.000000  1477.000000  1477.000000   \n",
       "mean      7.248477     643.677725     5.158917     9.089846     0.453915   \n",
       "std       0.968966   10061.841653     7.617330     8.244214     7.566942   \n",
       "min       6.000000       0.000000     0.000000     0.000000     0.000000   \n",
       "25%       6.000000      43.000000     0.716700     2.933500     0.018100   \n",
       "50%       8.000000     159.000000     2.633300     7.321400     0.087600   \n",
       "75%       8.000000     374.000000     6.200000    12.531100     0.233300   \n",
       "max       8.000000  365453.000000    68.000000    49.174200   254.960900   \n",
       "\n",
       "             DistA       DistSD          HRA         HRSD      floorsT  \\\n",
       "count  1477.000000  1477.000000  1477.000000  1477.000000  1477.000000   \n",
       "mean      0.003034     0.005682    83.511547     6.700330     0.657414   \n",
       "std       0.004574     0.005566    10.677834     3.218145     9.197496   \n",
       "min       0.000000     0.000000    50.670000     0.000000     0.000000   \n",
       "25%       0.000300     0.001300    76.570000     4.561800     0.000000   \n",
       "50%       0.001400     0.004400    82.680000     6.161200     0.000000   \n",
       "75%       0.003800     0.008200    90.130000     8.173300     0.000000   \n",
       "max       0.043100     0.033600   147.310000    48.226500   333.000000   \n",
       "\n",
       "           floorsA     floorsSD  SuenoLigero  SuenoProfundo        Clase  \n",
       "count  1477.000000  1477.000000  1477.000000    1477.000000  1477.000000  \n",
       "mean      0.005902     0.039350    27.568043     374.108328     1.610020  \n",
       "std       0.017612     0.269846    18.689780     133.587818     0.702961  \n",
       "min       0.000000     0.000000     1.000000      51.000000     1.000000  \n",
       "25%       0.000000     0.000000    13.000000     320.000000     1.000000  \n",
       "50%       0.000000     0.000000    23.000000     402.000000     1.000000  \n",
       "75%       0.000000     0.000000    40.000000     465.000000     2.000000  \n",
       "max       0.300000    10.000000    91.000000     656.000000     3.000000  "
      ]
     },
     "execution_count": 3,
     "metadata": {},
     "output_type": "execute_result"
    }
   ],
   "source": [
    "df.describe()"
   ]
  },
  {
   "cell_type": "code",
   "execution_count": 4,
   "id": "7ccda7da",
   "metadata": {},
   "outputs": [
    {
     "data": {
      "text/html": [
       "<div>\n",
       "<style scoped>\n",
       "    .dataframe tbody tr th:only-of-type {\n",
       "        vertical-align: middle;\n",
       "    }\n",
       "\n",
       "    .dataframe tbody tr th {\n",
       "        vertical-align: top;\n",
       "    }\n",
       "\n",
       "    .dataframe thead th {\n",
       "        text-align: right;\n",
       "    }\n",
       "</style>\n",
       "<table border=\"1\" class=\"dataframe\">\n",
       "  <thead>\n",
       "    <tr style=\"text-align: right;\">\n",
       "      <th></th>\n",
       "      <th>semestre</th>\n",
       "      <th>StepsT</th>\n",
       "      <th>StepsA</th>\n",
       "      <th>StepsSD</th>\n",
       "      <th>DistT</th>\n",
       "      <th>DistA</th>\n",
       "      <th>DistSD</th>\n",
       "      <th>HRA</th>\n",
       "      <th>HRSD</th>\n",
       "      <th>floorsT</th>\n",
       "      <th>floorsA</th>\n",
       "      <th>floorsSD</th>\n",
       "      <th>SuenoLigero</th>\n",
       "      <th>SuenoProfundo</th>\n",
       "      <th>Clase</th>\n",
       "    </tr>\n",
       "  </thead>\n",
       "  <tbody>\n",
       "    <tr>\n",
       "      <th>0</th>\n",
       "      <td>8</td>\n",
       "      <td>651</td>\n",
       "      <td>10.8500</td>\n",
       "      <td>18.2719</td>\n",
       "      <td>0.2044</td>\n",
       "      <td>0.0034</td>\n",
       "      <td>0.0081</td>\n",
       "      <td>88.53</td>\n",
       "      <td>7.9134</td>\n",
       "      <td>1</td>\n",
       "      <td>0.0167</td>\n",
       "      <td>0.128</td>\n",
       "      <td>81</td>\n",
       "      <td>483</td>\n",
       "      <td>1</td>\n",
       "    </tr>\n",
       "    <tr>\n",
       "      <th>1</th>\n",
       "      <td>6</td>\n",
       "      <td>9</td>\n",
       "      <td>0.1500</td>\n",
       "      <td>1.1522</td>\n",
       "      <td>0.0061</td>\n",
       "      <td>0.0001</td>\n",
       "      <td>0.0008</td>\n",
       "      <td>79.93</td>\n",
       "      <td>4.6147</td>\n",
       "      <td>0</td>\n",
       "      <td>0.0000</td>\n",
       "      <td>0.000</td>\n",
       "      <td>20</td>\n",
       "      <td>285</td>\n",
       "      <td>2</td>\n",
       "    </tr>\n",
       "    <tr>\n",
       "      <th>2</th>\n",
       "      <td>6</td>\n",
       "      <td>42</td>\n",
       "      <td>0.7000</td>\n",
       "      <td>2.3826</td>\n",
       "      <td>0.0196</td>\n",
       "      <td>0.0003</td>\n",
       "      <td>0.0013</td>\n",
       "      <td>90.65</td>\n",
       "      <td>4.6434</td>\n",
       "      <td>0</td>\n",
       "      <td>0.0000</td>\n",
       "      <td>0.000</td>\n",
       "      <td>43</td>\n",
       "      <td>320</td>\n",
       "      <td>2</td>\n",
       "    </tr>\n",
       "    <tr>\n",
       "      <th>3</th>\n",
       "      <td>8</td>\n",
       "      <td>378</td>\n",
       "      <td>6.3000</td>\n",
       "      <td>11.1763</td>\n",
       "      <td>0.2731</td>\n",
       "      <td>0.0046</td>\n",
       "      <td>0.0081</td>\n",
       "      <td>86.05</td>\n",
       "      <td>5.9594</td>\n",
       "      <td>0</td>\n",
       "      <td>0.0000</td>\n",
       "      <td>0.000</td>\n",
       "      <td>16</td>\n",
       "      <td>475</td>\n",
       "      <td>1</td>\n",
       "    </tr>\n",
       "    <tr>\n",
       "      <th>4</th>\n",
       "      <td>8</td>\n",
       "      <td>32</td>\n",
       "      <td>0.5333</td>\n",
       "      <td>2.3977</td>\n",
       "      <td>0.0221</td>\n",
       "      <td>0.0004</td>\n",
       "      <td>0.0017</td>\n",
       "      <td>75.28</td>\n",
       "      <td>4.7049</td>\n",
       "      <td>0</td>\n",
       "      <td>0.0000</td>\n",
       "      <td>0.000</td>\n",
       "      <td>21</td>\n",
       "      <td>184</td>\n",
       "      <td>2</td>\n",
       "    </tr>\n",
       "  </tbody>\n",
       "</table>\n",
       "</div>"
      ],
      "text/plain": [
       "   semestre  StepsT   StepsA  StepsSD   DistT   DistA  DistSD    HRA    HRSD  \\\n",
       "0         8     651  10.8500  18.2719  0.2044  0.0034  0.0081  88.53  7.9134   \n",
       "1         6       9   0.1500   1.1522  0.0061  0.0001  0.0008  79.93  4.6147   \n",
       "2         6      42   0.7000   2.3826  0.0196  0.0003  0.0013  90.65  4.6434   \n",
       "3         8     378   6.3000  11.1763  0.2731  0.0046  0.0081  86.05  5.9594   \n",
       "4         8      32   0.5333   2.3977  0.0221  0.0004  0.0017  75.28  4.7049   \n",
       "\n",
       "   floorsT  floorsA  floorsSD  SuenoLigero  SuenoProfundo  Clase  \n",
       "0        1   0.0167     0.128           81            483      1  \n",
       "1        0   0.0000     0.000           20            285      2  \n",
       "2        0   0.0000     0.000           43            320      2  \n",
       "3        0   0.0000     0.000           16            475      1  \n",
       "4        0   0.0000     0.000           21            184      2  "
      ]
     },
     "execution_count": 4,
     "metadata": {},
     "output_type": "execute_result"
    }
   ],
   "source": [
    "df.head()"
   ]
  },
  {
   "cell_type": "code",
   "execution_count": 5,
   "id": "b7b9f1a2",
   "metadata": {},
   "outputs": [
    {
     "data": {
      "text/plain": [
       "Index(['semestre', 'StepsT', 'StepsA', 'StepsSD', 'DistT', 'DistA', 'DistSD',\n",
       "       'HRA', 'HRSD', 'floorsT', 'floorsA', 'floorsSD', 'SuenoLigero',\n",
       "       'SuenoProfundo', 'Clase'],\n",
       "      dtype='object')"
      ]
     },
     "execution_count": 5,
     "metadata": {},
     "output_type": "execute_result"
    }
   ],
   "source": [
    "df.columns"
   ]
  },
  {
   "cell_type": "code",
   "execution_count": 6,
   "id": "8276b52e",
   "metadata": {},
   "outputs": [
    {
     "data": {
      "text/plain": [
       "(1477, 15)"
      ]
     },
     "execution_count": 6,
     "metadata": {},
     "output_type": "execute_result"
    }
   ],
   "source": [
    "df.shape"
   ]
  },
  {
   "cell_type": "code",
   "execution_count": 7,
   "id": "e4860f4b",
   "metadata": {},
   "outputs": [
    {
     "data": {
      "text/plain": [
       "semestre         0\n",
       "StepsT           0\n",
       "StepsA           0\n",
       "StepsSD          0\n",
       "DistT            0\n",
       "DistA            0\n",
       "DistSD           0\n",
       "HRA              0\n",
       "HRSD             0\n",
       "floorsT          0\n",
       "floorsA          0\n",
       "floorsSD         0\n",
       "SuenoLigero      0\n",
       "SuenoProfundo    0\n",
       "Clase            0\n",
       "dtype: int64"
      ]
     },
     "execution_count": 7,
     "metadata": {},
     "output_type": "execute_result"
    }
   ],
   "source": [
    "df.isnull().sum()"
   ]
  },
  {
   "cell_type": "code",
   "execution_count": 8,
   "id": "cd6b79c5",
   "metadata": {},
   "outputs": [
    {
     "name": "stdout",
     "output_type": "stream",
     "text": [
      "<class 'pandas.core.frame.DataFrame'>\n",
      "RangeIndex: 1477 entries, 0 to 1476\n",
      "Data columns (total 15 columns):\n",
      " #   Column         Non-Null Count  Dtype  \n",
      "---  ------         --------------  -----  \n",
      " 0   semestre       1477 non-null   int64  \n",
      " 1   StepsT         1477 non-null   int64  \n",
      " 2   StepsA         1477 non-null   float64\n",
      " 3   StepsSD        1477 non-null   float64\n",
      " 4   DistT          1477 non-null   float64\n",
      " 5   DistA          1477 non-null   float64\n",
      " 6   DistSD         1477 non-null   float64\n",
      " 7   HRA            1477 non-null   float64\n",
      " 8   HRSD           1477 non-null   float64\n",
      " 9   floorsT        1477 non-null   int64  \n",
      " 10  floorsA        1477 non-null   float64\n",
      " 11  floorsSD       1477 non-null   float64\n",
      " 12  SuenoLigero    1477 non-null   int64  \n",
      " 13  SuenoProfundo  1477 non-null   int64  \n",
      " 14  Clase          1477 non-null   int64  \n",
      "dtypes: float64(9), int64(6)\n",
      "memory usage: 173.2 KB\n"
     ]
    }
   ],
   "source": [
    "df.info()"
   ]
  },
  {
   "cell_type": "code",
   "execution_count": 9,
   "id": "5aedb55c",
   "metadata": {},
   "outputs": [
    {
     "data": {
      "text/plain": [
       "1    765\n",
       "2    523\n",
       "3    189\n",
       "Name: Clase, dtype: int64"
      ]
     },
     "execution_count": 9,
     "metadata": {},
     "output_type": "execute_result"
    }
   ],
   "source": [
    "df['Clase'].value_counts()"
   ]
  },
  {
   "cell_type": "markdown",
   "id": "03a5aac6",
   "metadata": {},
   "source": [
    "## Preprocesamiento de datos"
   ]
  },
  {
   "cell_type": "code",
   "execution_count": 10,
   "id": "f812685d",
   "metadata": {},
   "outputs": [],
   "source": [
    "X = df.drop(columns=['Clase'])\n",
    "Y = df['Clase']"
   ]
  },
  {
   "cell_type": "code",
   "execution_count": 11,
   "id": "e4c40926",
   "metadata": {},
   "outputs": [
    {
     "data": {
      "text/plain": [
       "1    765\n",
       "2    765\n",
       "3    765\n",
       "Name: Clase, dtype: int64"
      ]
     },
     "execution_count": 11,
     "metadata": {},
     "output_type": "execute_result"
    }
   ],
   "source": [
    "#Balanceo de clases\n",
    "oversample =SMOTE()\n",
    "X, Y = oversample.fit_resample(X, Y)\n",
    "Y.value_counts()"
   ]
  },
  {
   "cell_type": "markdown",
   "id": "05dd6b11",
   "metadata": {},
   "source": [
    "## División del dataset"
   ]
  },
  {
   "cell_type": "code",
   "execution_count": 12,
   "id": "5f2a1d48",
   "metadata": {},
   "outputs": [],
   "source": [
    "x_train, x_test, y_train, y_test = train_test_split(X, Y, test_size=0.30)"
   ]
  },
  {
   "cell_type": "markdown",
   "id": "a75a6450",
   "metadata": {},
   "source": [
    "## Clasificador"
   ]
  },
  {
   "cell_type": "markdown",
   "id": "7828bda7",
   "metadata": {},
   "source": [
    "Decision Tree"
   ]
  },
  {
   "cell_type": "code",
   "execution_count": 13,
   "id": "e13add68",
   "metadata": {},
   "outputs": [
    {
     "name": "stdout",
     "output_type": "stream",
     "text": [
      "accurancy:  56.313497822931794\n"
     ]
    }
   ],
   "source": [
    "#decision tree\n",
    "model = DecisionTreeClassifier()\n",
    "model.fit(x_train, y_train)\n",
    "print(\"accurancy: \",model.score(x_test, y_test)*100)"
   ]
  },
  {
   "cell_type": "code",
   "execution_count": 14,
   "id": "1e196c5d",
   "metadata": {},
   "outputs": [],
   "source": [
    "scoring=['accuracy','precision_weighted','recall_weighted','f1_weighted']\n",
    "result = cross_validate(model,X,Y,cv=10,scoring=scoring)"
   ]
  },
  {
   "cell_type": "code",
   "execution_count": 15,
   "id": "d062e9d4",
   "metadata": {},
   "outputs": [
    {
     "data": {
      "text/plain": [
       "(10, 6)"
      ]
     },
     "execution_count": 15,
     "metadata": {},
     "output_type": "execute_result"
    }
   ],
   "source": [
    "results = pd.DataFrame(result)\n",
    "results.shape"
   ]
  },
  {
   "cell_type": "code",
   "execution_count": 16,
   "id": "af4cf5f6",
   "metadata": {},
   "outputs": [
    {
     "data": {
      "text/html": [
       "<div>\n",
       "<style scoped>\n",
       "    .dataframe tbody tr th:only-of-type {\n",
       "        vertical-align: middle;\n",
       "    }\n",
       "\n",
       "    .dataframe tbody tr th {\n",
       "        vertical-align: top;\n",
       "    }\n",
       "\n",
       "    .dataframe thead th {\n",
       "        text-align: right;\n",
       "    }\n",
       "</style>\n",
       "<table border=\"1\" class=\"dataframe\">\n",
       "  <thead>\n",
       "    <tr style=\"text-align: right;\">\n",
       "      <th></th>\n",
       "      <th>fit_time</th>\n",
       "      <th>score_time</th>\n",
       "      <th>test_accuracy</th>\n",
       "      <th>test_precision_weighted</th>\n",
       "      <th>test_recall_weighted</th>\n",
       "      <th>test_f1_weighted</th>\n",
       "    </tr>\n",
       "  </thead>\n",
       "  <tbody>\n",
       "    <tr>\n",
       "      <th>0</th>\n",
       "      <td>0.038660</td>\n",
       "      <td>0.011257</td>\n",
       "      <td>0.473913</td>\n",
       "      <td>0.490720</td>\n",
       "      <td>0.473913</td>\n",
       "      <td>0.473583</td>\n",
       "    </tr>\n",
       "    <tr>\n",
       "      <th>1</th>\n",
       "      <td>0.022529</td>\n",
       "      <td>0.010001</td>\n",
       "      <td>0.373913</td>\n",
       "      <td>0.386377</td>\n",
       "      <td>0.373913</td>\n",
       "      <td>0.377046</td>\n",
       "    </tr>\n",
       "    <tr>\n",
       "      <th>2</th>\n",
       "      <td>0.031123</td>\n",
       "      <td>0.007792</td>\n",
       "      <td>0.621739</td>\n",
       "      <td>0.639323</td>\n",
       "      <td>0.621739</td>\n",
       "      <td>0.626507</td>\n",
       "    </tr>\n",
       "    <tr>\n",
       "      <th>3</th>\n",
       "      <td>0.031513</td>\n",
       "      <td>0.010342</td>\n",
       "      <td>0.513043</td>\n",
       "      <td>0.512987</td>\n",
       "      <td>0.513043</td>\n",
       "      <td>0.510783</td>\n",
       "    </tr>\n",
       "    <tr>\n",
       "      <th>4</th>\n",
       "      <td>0.029001</td>\n",
       "      <td>0.008019</td>\n",
       "      <td>0.560870</td>\n",
       "      <td>0.551246</td>\n",
       "      <td>0.560870</td>\n",
       "      <td>0.553685</td>\n",
       "    </tr>\n",
       "    <tr>\n",
       "      <th>5</th>\n",
       "      <td>0.032202</td>\n",
       "      <td>0.008114</td>\n",
       "      <td>0.537118</td>\n",
       "      <td>0.523694</td>\n",
       "      <td>0.537118</td>\n",
       "      <td>0.527349</td>\n",
       "    </tr>\n",
       "    <tr>\n",
       "      <th>6</th>\n",
       "      <td>0.039818</td>\n",
       "      <td>0.014012</td>\n",
       "      <td>0.519651</td>\n",
       "      <td>0.510769</td>\n",
       "      <td>0.519651</td>\n",
       "      <td>0.505646</td>\n",
       "    </tr>\n",
       "    <tr>\n",
       "      <th>7</th>\n",
       "      <td>0.031672</td>\n",
       "      <td>0.006288</td>\n",
       "      <td>0.532751</td>\n",
       "      <td>0.533407</td>\n",
       "      <td>0.532751</td>\n",
       "      <td>0.518150</td>\n",
       "    </tr>\n",
       "    <tr>\n",
       "      <th>8</th>\n",
       "      <td>0.023808</td>\n",
       "      <td>0.008691</td>\n",
       "      <td>0.628821</td>\n",
       "      <td>0.650457</td>\n",
       "      <td>0.628821</td>\n",
       "      <td>0.619214</td>\n",
       "    </tr>\n",
       "    <tr>\n",
       "      <th>9</th>\n",
       "      <td>0.028638</td>\n",
       "      <td>0.007998</td>\n",
       "      <td>0.606987</td>\n",
       "      <td>0.607544</td>\n",
       "      <td>0.606987</td>\n",
       "      <td>0.601526</td>\n",
       "    </tr>\n",
       "  </tbody>\n",
       "</table>\n",
       "</div>"
      ],
      "text/plain": [
       "   fit_time  score_time  test_accuracy  test_precision_weighted  \\\n",
       "0  0.038660    0.011257       0.473913                 0.490720   \n",
       "1  0.022529    0.010001       0.373913                 0.386377   \n",
       "2  0.031123    0.007792       0.621739                 0.639323   \n",
       "3  0.031513    0.010342       0.513043                 0.512987   \n",
       "4  0.029001    0.008019       0.560870                 0.551246   \n",
       "5  0.032202    0.008114       0.537118                 0.523694   \n",
       "6  0.039818    0.014012       0.519651                 0.510769   \n",
       "7  0.031672    0.006288       0.532751                 0.533407   \n",
       "8  0.023808    0.008691       0.628821                 0.650457   \n",
       "9  0.028638    0.007998       0.606987                 0.607544   \n",
       "\n",
       "   test_recall_weighted  test_f1_weighted  \n",
       "0              0.473913          0.473583  \n",
       "1              0.373913          0.377046  \n",
       "2              0.621739          0.626507  \n",
       "3              0.513043          0.510783  \n",
       "4              0.560870          0.553685  \n",
       "5              0.537118          0.527349  \n",
       "6              0.519651          0.505646  \n",
       "7              0.532751          0.518150  \n",
       "8              0.628821          0.619214  \n",
       "9              0.606987          0.601526  "
      ]
     },
     "execution_count": 16,
     "metadata": {},
     "output_type": "execute_result"
    }
   ],
   "source": [
    "results.head(10)"
   ]
  },
  {
   "cell_type": "code",
   "execution_count": 17,
   "id": "992216a7",
   "metadata": {},
   "outputs": [
    {
     "data": {
      "text/plain": [
       "0.5368805771786596"
      ]
     },
     "execution_count": 17,
     "metadata": {},
     "output_type": "execute_result"
    }
   ],
   "source": [
    "results['test_accuracy'].mean()"
   ]
  },
  {
   "cell_type": "code",
   "execution_count": 18,
   "id": "8fe8635c",
   "metadata": {},
   "outputs": [
    {
     "data": {
      "text/plain": [
       "0.5368805771786596"
      ]
     },
     "execution_count": 18,
     "metadata": {},
     "output_type": "execute_result"
    }
   ],
   "source": [
    "results['test_recall_weighted'].mean()"
   ]
  },
  {
   "cell_type": "code",
   "execution_count": 19,
   "id": "5d7be49f",
   "metadata": {},
   "outputs": [
    {
     "data": {
      "text/plain": [
       "0.5406524351855075"
      ]
     },
     "execution_count": 19,
     "metadata": {},
     "output_type": "execute_result"
    }
   ],
   "source": [
    "results['test_precision_weighted'].mean()"
   ]
  },
  {
   "cell_type": "code",
   "execution_count": 20,
   "id": "2e3f1da3",
   "metadata": {},
   "outputs": [
    {
     "data": {
      "text/plain": [
       "0.531348935143637"
      ]
     },
     "execution_count": 20,
     "metadata": {},
     "output_type": "execute_result"
    }
   ],
   "source": [
    "results['test_f1_weighted'].mean()"
   ]
  },
  {
   "cell_type": "markdown",
   "id": "0a3f6639",
   "metadata": {},
   "source": [
    "Random Forest"
   ]
  },
  {
   "cell_type": "code",
   "execution_count": 21,
   "id": "69b13f19",
   "metadata": {},
   "outputs": [
    {
     "data": {
      "text/plain": [
       "(10, 6)"
      ]
     },
     "execution_count": 21,
     "metadata": {},
     "output_type": "execute_result"
    }
   ],
   "source": [
    "#decision tree\n",
    "model = RandomForestClassifier()\n",
    "model.fit(x_train, y_train)\n",
    "scoring=['accuracy','precision_weighted','recall_weighted','f1_weighted']\n",
    "result = cross_validate(model,X,Y,cv=10,scoring=scoring)\n",
    "results = pd.DataFrame(result)\n",
    "results.shape"
   ]
  },
  {
   "cell_type": "code",
   "execution_count": 22,
   "id": "24d224be",
   "metadata": {},
   "outputs": [
    {
     "data": {
      "text/plain": [
       "0.622225175621796"
      ]
     },
     "execution_count": 22,
     "metadata": {},
     "output_type": "execute_result"
    }
   ],
   "source": [
    "results['test_accuracy'].mean()"
   ]
  },
  {
   "cell_type": "code",
   "execution_count": 23,
   "id": "8312739d",
   "metadata": {},
   "outputs": [
    {
     "data": {
      "text/plain": [
       "0.622225175621796"
      ]
     },
     "execution_count": 23,
     "metadata": {},
     "output_type": "execute_result"
    }
   ],
   "source": [
    "results['test_recall_weighted'].mean()"
   ]
  },
  {
   "cell_type": "code",
   "execution_count": 24,
   "id": "9cc7584e",
   "metadata": {},
   "outputs": [
    {
     "data": {
      "text/plain": [
       "0.6353308539103764"
      ]
     },
     "execution_count": 24,
     "metadata": {},
     "output_type": "execute_result"
    }
   ],
   "source": [
    "results['test_precision_weighted'].mean()"
   ]
  },
  {
   "cell_type": "code",
   "execution_count": 25,
   "id": "803a6078",
   "metadata": {},
   "outputs": [
    {
     "data": {
      "text/plain": [
       "0.6109398312899644"
      ]
     },
     "execution_count": 25,
     "metadata": {},
     "output_type": "execute_result"
    }
   ],
   "source": [
    "results['test_f1_weighted'].mean()"
   ]
  },
  {
   "cell_type": "markdown",
   "id": "0cd028db",
   "metadata": {},
   "source": [
    "AdaBoost"
   ]
  },
  {
   "cell_type": "code",
   "execution_count": 26,
   "id": "58a464de",
   "metadata": {},
   "outputs": [
    {
     "data": {
      "text/plain": [
       "(10, 6)"
      ]
     },
     "execution_count": 26,
     "metadata": {},
     "output_type": "execute_result"
    }
   ],
   "source": [
    "model = AdaBoostClassifier()\n",
    "model.fit(x_train, y_train)\n",
    "scoring=['accuracy','precision_weighted','recall_weighted','f1_weighted']\n",
    "result = cross_validate(model,X,Y,cv=10,scoring=scoring)\n",
    "results = pd.DataFrame(result)\n",
    "results.shape"
   ]
  },
  {
   "cell_type": "code",
   "execution_count": 27,
   "id": "88da3ba0",
   "metadata": {},
   "outputs": [
    {
     "data": {
      "text/plain": [
       "0.45008353901651804"
      ]
     },
     "execution_count": 27,
     "metadata": {},
     "output_type": "execute_result"
    }
   ],
   "source": [
    "results['test_accuracy'].mean()"
   ]
  },
  {
   "cell_type": "code",
   "execution_count": 28,
   "id": "60693067",
   "metadata": {},
   "outputs": [
    {
     "data": {
      "text/plain": [
       "0.45008353901651804"
      ]
     },
     "execution_count": 28,
     "metadata": {},
     "output_type": "execute_result"
    }
   ],
   "source": [
    "results['test_recall_weighted'].mean()"
   ]
  },
  {
   "cell_type": "code",
   "execution_count": 29,
   "id": "e672e47f",
   "metadata": {},
   "outputs": [
    {
     "data": {
      "text/plain": [
       "0.454566851818501"
      ]
     },
     "execution_count": 29,
     "metadata": {},
     "output_type": "execute_result"
    }
   ],
   "source": [
    "results['test_precision_weighted'].mean()"
   ]
  },
  {
   "cell_type": "code",
   "execution_count": 30,
   "id": "894b0edb",
   "metadata": {},
   "outputs": [
    {
     "data": {
      "text/plain": [
       "0.4444765692121728"
      ]
     },
     "execution_count": 30,
     "metadata": {},
     "output_type": "execute_result"
    }
   ],
   "source": [
    "results['test_f1_weighted'].mean()"
   ]
  },
  {
   "cell_type": "markdown",
   "id": "08ab0ee6",
   "metadata": {},
   "source": [
    "ExtraTrees"
   ]
  },
  {
   "cell_type": "code",
   "execution_count": 31,
   "id": "cf99b864",
   "metadata": {},
   "outputs": [
    {
     "data": {
      "text/plain": [
       "(10, 6)"
      ]
     },
     "execution_count": 31,
     "metadata": {},
     "output_type": "execute_result"
    }
   ],
   "source": [
    "model = ExtraTreesClassifier()\n",
    "model.fit(x_train, y_train)\n",
    "scoring=['accuracy','precision_weighted','recall_weighted','f1_weighted']\n",
    "result = cross_validate(model,X,Y,cv=10,scoring=scoring)\n",
    "results = pd.DataFrame(result)\n",
    "results.shape"
   ]
  },
  {
   "cell_type": "code",
   "execution_count": 32,
   "id": "fd979e96",
   "metadata": {},
   "outputs": [
    {
     "data": {
      "text/plain": [
       "0.6370666413518132"
      ]
     },
     "execution_count": 32,
     "metadata": {},
     "output_type": "execute_result"
    }
   ],
   "source": [
    "results['test_accuracy'].mean()"
   ]
  },
  {
   "cell_type": "code",
   "execution_count": 33,
   "id": "8aa69518",
   "metadata": {},
   "outputs": [
    {
     "data": {
      "text/plain": [
       "0.6370666413518132"
      ]
     },
     "execution_count": 33,
     "metadata": {},
     "output_type": "execute_result"
    }
   ],
   "source": [
    "results['test_recall_weighted'].mean()"
   ]
  },
  {
   "cell_type": "code",
   "execution_count": 34,
   "id": "53f5823e",
   "metadata": {},
   "outputs": [
    {
     "data": {
      "text/plain": [
       "0.6446944889784526"
      ]
     },
     "execution_count": 34,
     "metadata": {},
     "output_type": "execute_result"
    }
   ],
   "source": [
    "results['test_precision_weighted'].mean()"
   ]
  },
  {
   "cell_type": "code",
   "execution_count": 35,
   "id": "e6265b23",
   "metadata": {},
   "outputs": [
    {
     "data": {
      "text/plain": [
       "0.6286747234522039"
      ]
     },
     "execution_count": 35,
     "metadata": {},
     "output_type": "execute_result"
    }
   ],
   "source": [
    "results['test_f1_weighted'].mean()"
   ]
  },
  {
   "cell_type": "markdown",
   "id": "e99f1632",
   "metadata": {},
   "source": [
    "KNeighbors"
   ]
  },
  {
   "cell_type": "code",
   "execution_count": 36,
   "id": "b37f1452",
   "metadata": {},
   "outputs": [
    {
     "data": {
      "text/plain": [
       "(10, 6)"
      ]
     },
     "execution_count": 36,
     "metadata": {},
     "output_type": "execute_result"
    }
   ],
   "source": [
    "model = KNeighborsClassifier()\n",
    "model.fit(x_train, y_train)\n",
    "scoring=['accuracy','precision_weighted','recall_weighted','f1_weighted']\n",
    "result = cross_validate(model,X,Y,cv=10,scoring=scoring)\n",
    "results = pd.DataFrame(result)\n",
    "results.shape"
   ]
  },
  {
   "cell_type": "code",
   "execution_count": 37,
   "id": "53069c18",
   "metadata": {},
   "outputs": [
    {
     "data": {
      "text/plain": [
       "0.547748243782039"
      ]
     },
     "execution_count": 37,
     "metadata": {},
     "output_type": "execute_result"
    }
   ],
   "source": [
    "results['test_accuracy'].mean()"
   ]
  },
  {
   "cell_type": "code",
   "execution_count": 38,
   "id": "290d1122",
   "metadata": {},
   "outputs": [
    {
     "data": {
      "text/plain": [
       "0.547748243782039"
      ]
     },
     "execution_count": 38,
     "metadata": {},
     "output_type": "execute_result"
    }
   ],
   "source": [
    "results['test_recall_weighted'].mean()"
   ]
  },
  {
   "cell_type": "code",
   "execution_count": 39,
   "id": "82e28a92",
   "metadata": {},
   "outputs": [
    {
     "data": {
      "text/plain": [
       "0.5419250297948728"
      ]
     },
     "execution_count": 39,
     "metadata": {},
     "output_type": "execute_result"
    }
   ],
   "source": [
    "results['test_precision_weighted'].mean()"
   ]
  },
  {
   "cell_type": "code",
   "execution_count": 40,
   "id": "9b046682",
   "metadata": {},
   "outputs": [
    {
     "data": {
      "text/plain": [
       "0.540811064847248"
      ]
     },
     "execution_count": 40,
     "metadata": {},
     "output_type": "execute_result"
    }
   ],
   "source": [
    "results['test_f1_weighted'].mean()"
   ]
  },
  {
   "cell_type": "markdown",
   "id": "2d0a9247",
   "metadata": {},
   "source": [
    "GaussinNB"
   ]
  },
  {
   "cell_type": "code",
   "execution_count": 41,
   "id": "5d274e72",
   "metadata": {},
   "outputs": [
    {
     "data": {
      "text/plain": [
       "(10, 6)"
      ]
     },
     "execution_count": 41,
     "metadata": {},
     "output_type": "execute_result"
    }
   ],
   "source": [
    "model = GaussianNB()\n",
    "model.fit(x_train, y_train)\n",
    "scoring=['accuracy','precision_weighted','recall_weighted','f1_weighted']\n",
    "result = cross_validate(model,X,Y,cv=10,scoring=scoring)\n",
    "results = pd.DataFrame(result)\n",
    "results.shape"
   ]
  },
  {
   "cell_type": "code",
   "execution_count": 42,
   "id": "45c99d80",
   "metadata": {},
   "outputs": [
    {
     "data": {
      "text/plain": [
       "0.36427757736852096"
      ]
     },
     "execution_count": 42,
     "metadata": {},
     "output_type": "execute_result"
    }
   ],
   "source": [
    "results['test_accuracy'].mean()"
   ]
  },
  {
   "cell_type": "code",
   "execution_count": 43,
   "id": "4a494921",
   "metadata": {},
   "outputs": [
    {
     "data": {
      "text/plain": [
       "0.36427757736852096"
      ]
     },
     "execution_count": 43,
     "metadata": {},
     "output_type": "execute_result"
    }
   ],
   "source": [
    "results['test_recall_weighted'].mean()"
   ]
  },
  {
   "cell_type": "code",
   "execution_count": 44,
   "id": "64e51740",
   "metadata": {},
   "outputs": [
    {
     "data": {
      "text/plain": [
       "0.39089002522144123"
      ]
     },
     "execution_count": 44,
     "metadata": {},
     "output_type": "execute_result"
    }
   ],
   "source": [
    "results['test_precision_weighted'].mean()"
   ]
  },
  {
   "cell_type": "code",
   "execution_count": 45,
   "id": "92b6e18e",
   "metadata": {},
   "outputs": [
    {
     "data": {
      "text/plain": [
       "0.29786594655419496"
      ]
     },
     "execution_count": 45,
     "metadata": {},
     "output_type": "execute_result"
    }
   ],
   "source": [
    "results['test_f1_weighted'].mean()"
   ]
  }
 ],
 "metadata": {
  "kernelspec": {
   "display_name": "Python 3 (ipykernel)",
   "language": "python",
   "name": "python3"
  },
  "language_info": {
   "codemirror_mode": {
    "name": "ipython",
    "version": 3
   },
   "file_extension": ".py",
   "mimetype": "text/x-python",
   "name": "python",
   "nbconvert_exporter": "python",
   "pygments_lexer": "ipython3",
   "version": "3.10.9"
  }
 },
 "nbformat": 4,
 "nbformat_minor": 5
}
