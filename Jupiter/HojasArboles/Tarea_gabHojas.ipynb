{
 "cells": [
  {
   "cell_type": "code",
   "execution_count": 151,
   "metadata": {},
   "outputs": [],
   "source": [
    "import pandas as pd\n",
    "import numpy as np\n",
    "import matplotlib.pyplot as plt\n",
    "import mglearn\n",
    "\n",
    "\n",
    "file_path = \"C:/Users/alexs/Documents/programacion/InteligenciaArtificial_Negocio/datasets/hojasdatasets.csv\"\n",
    "\n",
    "from sklearn.neighbors import KNeighborsClassifier\n",
    "from sklearn.model_selection import train_test_split\n",
    "\n",
    "hojas_dataset = pd.read_csv(file_path, delimiter=',', encoding='latin-1')\n",
    "X_train, X_test, y_train, y_test = train_test_split(hojas_dataset[['Ancho', 'Largo']], hojas_dataset['Clase'], random_state=0)\n"
   ]
  },
  {
   "cell_type": "code",
   "execution_count": 152,
   "metadata": {},
   "outputs": [
    {
     "data": {
      "text/html": [
       "<style>#sk-container-id-19 {color: black;}#sk-container-id-19 pre{padding: 0;}#sk-container-id-19 div.sk-toggleable {background-color: white;}#sk-container-id-19 label.sk-toggleable__label {cursor: pointer;display: block;width: 100%;margin-bottom: 0;padding: 0.3em;box-sizing: border-box;text-align: center;}#sk-container-id-19 label.sk-toggleable__label-arrow:before {content: \"▸\";float: left;margin-right: 0.25em;color: #696969;}#sk-container-id-19 label.sk-toggleable__label-arrow:hover:before {color: black;}#sk-container-id-19 div.sk-estimator:hover label.sk-toggleable__label-arrow:before {color: black;}#sk-container-id-19 div.sk-toggleable__content {max-height: 0;max-width: 0;overflow: hidden;text-align: left;background-color: #f0f8ff;}#sk-container-id-19 div.sk-toggleable__content pre {margin: 0.2em;color: black;border-radius: 0.25em;background-color: #f0f8ff;}#sk-container-id-19 input.sk-toggleable__control:checked~div.sk-toggleable__content {max-height: 200px;max-width: 100%;overflow: auto;}#sk-container-id-19 input.sk-toggleable__control:checked~label.sk-toggleable__label-arrow:before {content: \"▾\";}#sk-container-id-19 div.sk-estimator input.sk-toggleable__control:checked~label.sk-toggleable__label {background-color: #d4ebff;}#sk-container-id-19 div.sk-label input.sk-toggleable__control:checked~label.sk-toggleable__label {background-color: #d4ebff;}#sk-container-id-19 input.sk-hidden--visually {border: 0;clip: rect(1px 1px 1px 1px);clip: rect(1px, 1px, 1px, 1px);height: 1px;margin: -1px;overflow: hidden;padding: 0;position: absolute;width: 1px;}#sk-container-id-19 div.sk-estimator {font-family: monospace;background-color: #f0f8ff;border: 1px dotted black;border-radius: 0.25em;box-sizing: border-box;margin-bottom: 0.5em;}#sk-container-id-19 div.sk-estimator:hover {background-color: #d4ebff;}#sk-container-id-19 div.sk-parallel-item::after {content: \"\";width: 100%;border-bottom: 1px solid gray;flex-grow: 1;}#sk-container-id-19 div.sk-label:hover label.sk-toggleable__label {background-color: #d4ebff;}#sk-container-id-19 div.sk-serial::before {content: \"\";position: absolute;border-left: 1px solid gray;box-sizing: border-box;top: 0;bottom: 0;left: 50%;z-index: 0;}#sk-container-id-19 div.sk-serial {display: flex;flex-direction: column;align-items: center;background-color: white;padding-right: 0.2em;padding-left: 0.2em;position: relative;}#sk-container-id-19 div.sk-item {position: relative;z-index: 1;}#sk-container-id-19 div.sk-parallel {display: flex;align-items: stretch;justify-content: center;background-color: white;position: relative;}#sk-container-id-19 div.sk-item::before, #sk-container-id-19 div.sk-parallel-item::before {content: \"\";position: absolute;border-left: 1px solid gray;box-sizing: border-box;top: 0;bottom: 0;left: 50%;z-index: -1;}#sk-container-id-19 div.sk-parallel-item {display: flex;flex-direction: column;z-index: 1;position: relative;background-color: white;}#sk-container-id-19 div.sk-parallel-item:first-child::after {align-self: flex-end;width: 50%;}#sk-container-id-19 div.sk-parallel-item:last-child::after {align-self: flex-start;width: 50%;}#sk-container-id-19 div.sk-parallel-item:only-child::after {width: 0;}#sk-container-id-19 div.sk-dashed-wrapped {border: 1px dashed gray;margin: 0 0.4em 0.5em 0.4em;box-sizing: border-box;padding-bottom: 0.4em;background-color: white;}#sk-container-id-19 div.sk-label label {font-family: monospace;font-weight: bold;display: inline-block;line-height: 1.2em;}#sk-container-id-19 div.sk-label-container {text-align: center;}#sk-container-id-19 div.sk-container {/* jupyter's `normalize.less` sets `[hidden] { display: none; }` but bootstrap.min.css set `[hidden] { display: none !important; }` so we also need the `!important` here to be able to override the default hidden behavior on the sphinx rendered scikit-learn.org. See: https://github.com/scikit-learn/scikit-learn/issues/21755 */display: inline-block !important;position: relative;}#sk-container-id-19 div.sk-text-repr-fallback {display: none;}</style><div id=\"sk-container-id-19\" class=\"sk-top-container\"><div class=\"sk-text-repr-fallback\"><pre>KNeighborsClassifier(n_neighbors=1)</pre><b>In a Jupyter environment, please rerun this cell to show the HTML representation or trust the notebook. <br />On GitHub, the HTML representation is unable to render, please try loading this page with nbviewer.org.</b></div><div class=\"sk-container\" hidden><div class=\"sk-item\"><div class=\"sk-estimator sk-toggleable\"><input class=\"sk-toggleable__control sk-hidden--visually\" id=\"sk-estimator-id-19\" type=\"checkbox\" checked><label for=\"sk-estimator-id-19\" class=\"sk-toggleable__label sk-toggleable__label-arrow\">KNeighborsClassifier</label><div class=\"sk-toggleable__content\"><pre>KNeighborsClassifier(n_neighbors=1)</pre></div></div></div></div></div>"
      ],
      "text/plain": [
       "KNeighborsClassifier(n_neighbors=1)"
      ]
     },
     "execution_count": 152,
     "metadata": {},
     "output_type": "execute_result"
    }
   ],
   "source": [
    "knn = KNeighborsClassifier(n_neighbors=1)\n",
    "knn.fit(X_train, y_train)"
   ]
  },
  {
   "cell_type": "code",
   "execution_count": 153,
   "metadata": {},
   "outputs": [
    {
     "name": "stdout",
     "output_type": "stream",
     "text": [
      "X_new.shape =  (1, 4)\n"
     ]
    }
   ],
   "source": [
    "X_new = np.array([[4,2.8,5,2]])\n",
    "print(\"X_new.shape = \", X_new.shape)"
   ]
  },
  {
   "cell_type": "code",
   "execution_count": 154,
   "metadata": {},
   "outputs": [
    {
     "name": "stdout",
     "output_type": "stream",
     "text": [
      "Test Predictions ['Corona_cristo' 'Higuera_trepadora' 'Higuera_trepadora' 'Corona_cristo'\n",
      " 'Corona_cristo' 'Corona_cristo' 'Corona_cristo' 'Higuera_trepadora'\n",
      " 'Corona_cristo' 'Corona_cristo']\n"
     ]
    }
   ],
   "source": [
    "#Predecir datos\n",
    "predicts = knn.predict(X_test)\n",
    "#imprimir las predicciones\n",
    "print(\"Test Predictions\",predicts)\n"
   ]
  },
  {
   "cell_type": "code",
   "execution_count": 155,
   "metadata": {},
   "outputs": [
    {
     "name": "stdout",
     "output_type": "stream",
     "text": [
      "Test set score: 0.60\n"
     ]
    }
   ],
   "source": [
    "#hace un aprueba de scores (presicion)\n",
    "print(\"Test set score: {:.2f}\".format(knn.score(X_test, y_test)))"
   ]
  },
  {
   "cell_type": "code",
   "execution_count": 156,
   "metadata": {},
   "outputs": [
    {
     "name": "stdout",
     "output_type": "stream",
     "text": [
      "Test set score: 0.60\n"
     ]
    }
   ],
   "source": [
    "#\n",
    "print(\"Test set score: {:.2f}\".format(np.mean(predicts == y_test)))\n"
   ]
  },
  {
   "cell_type": "code",
   "execution_count": 157,
   "metadata": {},
   "outputs": [
    {
     "data": {
      "text/html": [
       "<div>\n",
       "<style scoped>\n",
       "    .dataframe tbody tr th:only-of-type {\n",
       "        vertical-align: middle;\n",
       "    }\n",
       "\n",
       "    .dataframe tbody tr th {\n",
       "        vertical-align: top;\n",
       "    }\n",
       "\n",
       "    .dataframe thead th {\n",
       "        text-align: right;\n",
       "    }\n",
       "</style>\n",
       "<table border=\"1\" class=\"dataframe\">\n",
       "  <thead>\n",
       "    <tr style=\"text-align: right;\">\n",
       "      <th></th>\n",
       "      <th>Largo</th>\n",
       "      <th>Ancho</th>\n",
       "      <th>Clase</th>\n",
       "    </tr>\n",
       "  </thead>\n",
       "  <tbody>\n",
       "    <tr>\n",
       "      <th>0</th>\n",
       "      <td>11.0</td>\n",
       "      <td>2.9</td>\n",
       "      <td>Corona_cristo</td>\n",
       "    </tr>\n",
       "    <tr>\n",
       "      <th>1</th>\n",
       "      <td>11.5</td>\n",
       "      <td>2.7</td>\n",
       "      <td>Corona_cristo</td>\n",
       "    </tr>\n",
       "    <tr>\n",
       "      <th>2</th>\n",
       "      <td>6.2</td>\n",
       "      <td>1.9</td>\n",
       "      <td>Corona_cristo</td>\n",
       "    </tr>\n",
       "    <tr>\n",
       "      <th>3</th>\n",
       "      <td>8.0</td>\n",
       "      <td>2.8</td>\n",
       "      <td>Corona_cristo</td>\n",
       "    </tr>\n",
       "    <tr>\n",
       "      <th>4</th>\n",
       "      <td>8.3</td>\n",
       "      <td>2.6</td>\n",
       "      <td>Corona_cristo</td>\n",
       "    </tr>\n",
       "    <tr>\n",
       "      <th>5</th>\n",
       "      <td>11.3</td>\n",
       "      <td>3.0</td>\n",
       "      <td>Corona_cristo</td>\n",
       "    </tr>\n",
       "    <tr>\n",
       "      <th>6</th>\n",
       "      <td>11.6</td>\n",
       "      <td>3.2</td>\n",
       "      <td>Corona_cristo</td>\n",
       "    </tr>\n",
       "    <tr>\n",
       "      <th>7</th>\n",
       "      <td>12.0</td>\n",
       "      <td>2.3</td>\n",
       "      <td>Corona_cristo</td>\n",
       "    </tr>\n",
       "    <tr>\n",
       "      <th>8</th>\n",
       "      <td>11.8</td>\n",
       "      <td>3.5</td>\n",
       "      <td>Corona_cristo</td>\n",
       "    </tr>\n",
       "    <tr>\n",
       "      <th>9</th>\n",
       "      <td>10.9</td>\n",
       "      <td>2.7</td>\n",
       "      <td>Corona_cristo</td>\n",
       "    </tr>\n",
       "    <tr>\n",
       "      <th>10</th>\n",
       "      <td>11.4</td>\n",
       "      <td>3.2</td>\n",
       "      <td>Corona_cristo</td>\n",
       "    </tr>\n",
       "    <tr>\n",
       "      <th>11</th>\n",
       "      <td>8.0</td>\n",
       "      <td>2.3</td>\n",
       "      <td>Corona_cristo</td>\n",
       "    </tr>\n",
       "    <tr>\n",
       "      <th>12</th>\n",
       "      <td>7.9</td>\n",
       "      <td>2.4</td>\n",
       "      <td>Corona_cristo</td>\n",
       "    </tr>\n",
       "    <tr>\n",
       "      <th>13</th>\n",
       "      <td>8.2</td>\n",
       "      <td>2.5</td>\n",
       "      <td>Corona_cristo</td>\n",
       "    </tr>\n",
       "    <tr>\n",
       "      <th>14</th>\n",
       "      <td>8.6</td>\n",
       "      <td>2.0</td>\n",
       "      <td>Corona_cristo</td>\n",
       "    </tr>\n",
       "    <tr>\n",
       "      <th>15</th>\n",
       "      <td>8.0</td>\n",
       "      <td>2.4</td>\n",
       "      <td>Corona_cristo</td>\n",
       "    </tr>\n",
       "    <tr>\n",
       "      <th>16</th>\n",
       "      <td>8.1</td>\n",
       "      <td>2.1</td>\n",
       "      <td>Corona_cristo</td>\n",
       "    </tr>\n",
       "    <tr>\n",
       "      <th>17</th>\n",
       "      <td>8.4</td>\n",
       "      <td>2.2</td>\n",
       "      <td>Corona_cristo</td>\n",
       "    </tr>\n",
       "    <tr>\n",
       "      <th>18</th>\n",
       "      <td>7.6</td>\n",
       "      <td>2.1</td>\n",
       "      <td>Corona_cristo</td>\n",
       "    </tr>\n",
       "    <tr>\n",
       "      <th>19</th>\n",
       "      <td>6.8</td>\n",
       "      <td>2.0</td>\n",
       "      <td>Corona_cristo</td>\n",
       "    </tr>\n",
       "    <tr>\n",
       "      <th>20</th>\n",
       "      <td>6.5</td>\n",
       "      <td>2.8</td>\n",
       "      <td>Higuera_trepadora</td>\n",
       "    </tr>\n",
       "    <tr>\n",
       "      <th>21</th>\n",
       "      <td>6.4</td>\n",
       "      <td>2.6</td>\n",
       "      <td>Higuera_trepadora</td>\n",
       "    </tr>\n",
       "    <tr>\n",
       "      <th>22</th>\n",
       "      <td>6.3</td>\n",
       "      <td>1.9</td>\n",
       "      <td>Higuera_trepadora</td>\n",
       "    </tr>\n",
       "    <tr>\n",
       "      <th>23</th>\n",
       "      <td>5.8</td>\n",
       "      <td>2.9</td>\n",
       "      <td>Higuera_trepadora</td>\n",
       "    </tr>\n",
       "    <tr>\n",
       "      <th>24</th>\n",
       "      <td>6.7</td>\n",
       "      <td>2.7</td>\n",
       "      <td>Higuera_trepadora</td>\n",
       "    </tr>\n",
       "    <tr>\n",
       "      <th>25</th>\n",
       "      <td>7.2</td>\n",
       "      <td>3.2</td>\n",
       "      <td>Higuera_trepadora</td>\n",
       "    </tr>\n",
       "    <tr>\n",
       "      <th>26</th>\n",
       "      <td>8.0</td>\n",
       "      <td>2.3</td>\n",
       "      <td>Higuera_trepadora</td>\n",
       "    </tr>\n",
       "    <tr>\n",
       "      <th>27</th>\n",
       "      <td>6.8</td>\n",
       "      <td>2.7</td>\n",
       "      <td>Higuera_trepadora</td>\n",
       "    </tr>\n",
       "    <tr>\n",
       "      <th>28</th>\n",
       "      <td>6.5</td>\n",
       "      <td>1.8</td>\n",
       "      <td>Higuera_trepadora</td>\n",
       "    </tr>\n",
       "    <tr>\n",
       "      <th>29</th>\n",
       "      <td>7.1</td>\n",
       "      <td>2.2</td>\n",
       "      <td>Higuera_trepadora</td>\n",
       "    </tr>\n",
       "    <tr>\n",
       "      <th>30</th>\n",
       "      <td>7.0</td>\n",
       "      <td>2.6</td>\n",
       "      <td>Higuera_trepadora</td>\n",
       "    </tr>\n",
       "    <tr>\n",
       "      <th>31</th>\n",
       "      <td>7.4</td>\n",
       "      <td>2.8</td>\n",
       "      <td>Higuera_trepadora</td>\n",
       "    </tr>\n",
       "    <tr>\n",
       "      <th>32</th>\n",
       "      <td>7.7</td>\n",
       "      <td>3.3</td>\n",
       "      <td>Higuera_trepadora</td>\n",
       "    </tr>\n",
       "    <tr>\n",
       "      <th>33</th>\n",
       "      <td>6.9</td>\n",
       "      <td>2.9</td>\n",
       "      <td>Higuera_trepadora</td>\n",
       "    </tr>\n",
       "    <tr>\n",
       "      <th>34</th>\n",
       "      <td>6.3</td>\n",
       "      <td>2.7</td>\n",
       "      <td>Higuera_trepadora</td>\n",
       "    </tr>\n",
       "    <tr>\n",
       "      <th>35</th>\n",
       "      <td>7.9</td>\n",
       "      <td>2.8</td>\n",
       "      <td>Higuera_trepadora</td>\n",
       "    </tr>\n",
       "    <tr>\n",
       "      <th>36</th>\n",
       "      <td>7.3</td>\n",
       "      <td>2.6</td>\n",
       "      <td>Higuera_trepadora</td>\n",
       "    </tr>\n",
       "    <tr>\n",
       "      <th>37</th>\n",
       "      <td>7.0</td>\n",
       "      <td>1.5</td>\n",
       "      <td>Higuera_trepadora</td>\n",
       "    </tr>\n",
       "    <tr>\n",
       "      <th>38</th>\n",
       "      <td>6.5</td>\n",
       "      <td>3.0</td>\n",
       "      <td>Higuera_trepadora</td>\n",
       "    </tr>\n",
       "    <tr>\n",
       "      <th>39</th>\n",
       "      <td>6.8</td>\n",
       "      <td>3.8</td>\n",
       "      <td>Higuera_trepadora</td>\n",
       "    </tr>\n",
       "  </tbody>\n",
       "</table>\n",
       "</div>"
      ],
      "text/plain": [
       "    Largo  Ancho              Clase\n",
       "0    11.0    2.9      Corona_cristo\n",
       "1    11.5    2.7      Corona_cristo\n",
       "2     6.2    1.9      Corona_cristo\n",
       "3     8.0    2.8      Corona_cristo\n",
       "4     8.3    2.6      Corona_cristo\n",
       "5    11.3    3.0      Corona_cristo\n",
       "6    11.6    3.2      Corona_cristo\n",
       "7    12.0    2.3      Corona_cristo\n",
       "8    11.8    3.5      Corona_cristo\n",
       "9    10.9    2.7      Corona_cristo\n",
       "10   11.4    3.2      Corona_cristo\n",
       "11    8.0    2.3      Corona_cristo\n",
       "12    7.9    2.4      Corona_cristo\n",
       "13    8.2    2.5      Corona_cristo\n",
       "14    8.6    2.0      Corona_cristo\n",
       "15    8.0    2.4      Corona_cristo\n",
       "16    8.1    2.1      Corona_cristo\n",
       "17    8.4    2.2      Corona_cristo\n",
       "18    7.6    2.1      Corona_cristo\n",
       "19    6.8    2.0      Corona_cristo\n",
       "20    6.5    2.8  Higuera_trepadora\n",
       "21    6.4    2.6  Higuera_trepadora\n",
       "22    6.3    1.9  Higuera_trepadora\n",
       "23    5.8    2.9  Higuera_trepadora\n",
       "24    6.7    2.7  Higuera_trepadora\n",
       "25    7.2    3.2  Higuera_trepadora\n",
       "26    8.0    2.3  Higuera_trepadora\n",
       "27    6.8    2.7  Higuera_trepadora\n",
       "28    6.5    1.8  Higuera_trepadora\n",
       "29    7.1    2.2  Higuera_trepadora\n",
       "30    7.0    2.6  Higuera_trepadora\n",
       "31    7.4    2.8  Higuera_trepadora\n",
       "32    7.7    3.3  Higuera_trepadora\n",
       "33    6.9    2.9  Higuera_trepadora\n",
       "34    6.3    2.7  Higuera_trepadora\n",
       "35    7.9    2.8  Higuera_trepadora\n",
       "36    7.3    2.6  Higuera_trepadora\n",
       "37    7.0    1.5  Higuera_trepadora\n",
       "38    6.5    3.0  Higuera_trepadora\n",
       "39    6.8    3.8  Higuera_trepadora"
      ]
     },
     "execution_count": 157,
     "metadata": {},
     "output_type": "execute_result"
    }
   ],
   "source": [
    "hojas_dataset"
   ]
  },
  {
   "cell_type": "code",
   "execution_count": 158,
   "metadata": {},
   "outputs": [
    {
     "name": "stdout",
     "output_type": "stream",
     "text": [
      "Keys of hojas_dataset:\n",
      " Index(['Largo', 'Ancho', 'Clase'], dtype='object')\n"
     ]
    }
   ],
   "source": [
    "print(\"Keys of hojas_dataset:\\n\", hojas_dataset.keys())"
   ]
  },
  {
   "cell_type": "code",
   "execution_count": 159,
   "metadata": {},
   "outputs": [
    {
     "name": "stdout",
     "output_type": "stream",
     "text": [
      "Clase: 0         Corona_cristo\n",
      "1         Corona_cristo\n",
      "2         Corona_cristo\n",
      "3         Corona_cristo\n",
      "4         Corona_cristo\n",
      "5         Corona_cristo\n",
      "6         Corona_cristo\n",
      "7         Corona_cristo\n",
      "8         Corona_cristo\n",
      "9         Corona_cristo\n",
      "10        Corona_cristo\n",
      "11        Corona_cristo\n",
      "12        Corona_cristo\n",
      "13        Corona_cristo\n",
      "14        Corona_cristo\n",
      "15        Corona_cristo\n",
      "16        Corona_cristo\n",
      "17        Corona_cristo\n",
      "18        Corona_cristo\n",
      "19        Corona_cristo\n",
      "20    Higuera_trepadora\n",
      "21    Higuera_trepadora\n",
      "22    Higuera_trepadora\n",
      "23    Higuera_trepadora\n",
      "24    Higuera_trepadora\n",
      "25    Higuera_trepadora\n",
      "26    Higuera_trepadora\n",
      "27    Higuera_trepadora\n",
      "28    Higuera_trepadora\n",
      "29    Higuera_trepadora\n",
      "30    Higuera_trepadora\n",
      "31    Higuera_trepadora\n",
      "32    Higuera_trepadora\n",
      "33    Higuera_trepadora\n",
      "34    Higuera_trepadora\n",
      "35    Higuera_trepadora\n",
      "36    Higuera_trepadora\n",
      "37    Higuera_trepadora\n",
      "38    Higuera_trepadora\n",
      "39    Higuera_trepadora\n",
      "Name: Clase, dtype: object\n"
     ]
    }
   ],
   "source": [
    "print(\"Clase:\", hojas_dataset['Clase'])"
   ]
  },
  {
   "cell_type": "code",
   "execution_count": 160,
   "metadata": {},
   "outputs": [
    {
     "name": "stdout",
     "output_type": "stream",
     "text": [
      "X_train Ancho (30, 2)\n",
      "y_train Largo (30,)\n"
     ]
    }
   ],
   "source": [
    "print(\"X_train Ancho\", X_train.shape)\n",
    "print(\"y_train Largo\", y_train.shape)\n"
   ]
  },
  {
   "cell_type": "code",
   "execution_count": 161,
   "metadata": {},
   "outputs": [
    {
     "data": {
      "image/png": "[encoded data removed]",
      "text/plain": [
       "<Figure size 1080x1080 with 4 Axes>"
      ]
     },
     "metadata": {
      "needs_background": "light"
     },
     "output_type": "display_data"
    }
   ],
   "source": [
    "# Crear el dataframe de visualizacion\n",
    "hojas_dataset['Clase'] = pd.Categorical(hojas_dataset['Clase'])\n",
    "scatter_matrix = pd.plotting.scatter_matrix(hojas_dataset, \n",
    "                c=hojas_dataset['Clase'].cat.codes, figsize=(15, 15),marker='o',\n",
    "                hist_kwds={'bins':20},s=40, alpha=.8, cmap=mglearn.cm3)\n",
    "plt.show()"
   ]
  },
  {
   "cell_type": "code",
   "execution_count": null,
   "metadata": {},
   "outputs": [],
   "source": []
  }
 ],
 "metadata": {
  "kernelspec": {
   "display_name": "Python 3",
   "language": "python",
   "name": "python3"
  },
  "language_info": {
   "codemirror_mode": {
    "name": "ipython",
    "version": 3
   },
   "file_extension": ".py",
   "mimetype": "text/x-python",
   "name": "python",
   "nbconvert_exporter": "python",
   "pygments_lexer": "ipython3",
   "version": "3.9.12"
  }
 },
 "nbformat": 4,
 "nbformat_minor": 2
}
