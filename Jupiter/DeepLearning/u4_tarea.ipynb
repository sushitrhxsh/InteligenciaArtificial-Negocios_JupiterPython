{
 "cells": [
  {
   "cell_type": "code",
   "execution_count": 1,
   "metadata": {},
   "outputs": [
    {
     "name": "stdout",
     "output_type": "stream",
     "text": [
      "La funcion comienza en -5.0 y termina en 5.0\n"
     ]
    },
    {
     "name": "stderr",
     "output_type": "stream",
     "text": [
      "C:\\Users\\alexs\\AppData\\Local\\Temp/ipykernel_10976/2281943986.py:21: RuntimeWarning: overflow encountered in exp\n",
      "  y1 = 1.0 / (1.0 + np.exp(-weight_value * x - bias_value1))\n",
      "C:\\Users\\alexs\\AppData\\Local\\Temp/ipykernel_10976/2281943986.py:22: RuntimeWarning: overflow encountered in exp\n",
      "  y2 = 1.0 / (1.0 + np.exp(-weight_value * x - bias_value2))\n"
     ]
    },
    {
     "data": {
      "image/png": "[encoded data removed]",
      "text/plain": [
       "<Figure size 432x288 with 1 Axes>"
      ]
     },
     "metadata": {
      "needs_background": "light"
     },
     "output_type": "display_data"
    }
   ],
   "source": [
    "## Importaciones de la librerias y variables\n",
    "import matplotlib.pyplot as plt\n",
    "import numpy as np\n",
    "\n",
    "weight_value = 1000\n",
    "bias_value1 = 5000   # comienza\n",
    "bias_value2 = -5000 # termina\n",
    "\n",
    "# figura para mostrar\n",
    "plt.axis([-10, 10, -1, 10])\n",
    "print(\"La funcion comienza en {0} y termina en {1}\"\n",
    "      .format(-bias_value1 / weight_value, \n",
    "              -bias_value2 / weight_value))\n",
    "\n",
    "# valores de entrada y salida\n",
    "inputs = np.arange(-10, 10, 0.01)\n",
    "outputs = list()\n",
    "\n",
    "# iterar sobre el rango de los inputs\n",
    "for x in inputs:\n",
    "    y1 = 1.0 / (1.0 + np.exp(-weight_value * x - bias_value1))\n",
    "    y2 = 1.0 / (1.0 + np.exp(-weight_value * x - bias_value2))\n",
    "    # modificar el peso para en el paso de la funcion\n",
    "    w = 7\n",
    "    # salida de red \n",
    "    y = y1 * w - y2 * w\n",
    "    outputs.append(y)\n",
    "\n",
    "plt.plot(inputs, outputs, lw=2, color='black')\n",
    "plt.show()\n",
    "\n"
   ]
  }
 ],
 "metadata": {
  "kernelspec": {
   "display_name": "Python 3",
   "language": "python",
   "name": "python3"
  },
  "language_info": {
   "codemirror_mode": {
    "name": "ipython",
    "version": 3
   },
   "file_extension": ".py",
   "mimetype": "text/x-python",
   "name": "python",
   "nbconvert_exporter": "python",
   "pygments_lexer": "ipython3",
   "version": "3.9.12"
  }
 },
 "nbformat": 4,
 "nbformat_minor": 2
}
